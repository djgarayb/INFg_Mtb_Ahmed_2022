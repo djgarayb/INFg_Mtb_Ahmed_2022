{
  "nbformat": 4,
  "nbformat_minor": 0,
  "metadata": {
    "colab": {
      "provenance": [],
      "collapsed_sections": [
        "_dgeUjsHl_KC",
        "MyLnsAaMmBqR"
      ],
      "machine_shape": "hm",
      "toc_visible": true,
      "include_colab_link": true
    },
    "kernelspec": {
      "name": "python3",
      "display_name": "Python 3"
    }
  },
  "cells": [
    {
      "cell_type": "markdown",
      "metadata": {
        "id": "view-in-github",
        "colab_type": "text"
      },
      "source": [
        "<a href=\"https://colab.research.google.com/github/djgarayb/INFg_Mtb_Ahmed_2022/blob/main/INFg_Mtb_project_April_2021_removing1sample.ipynb\" target=\"_parent\"><img src=\"https://colab.research.google.com/assets/colab-badge.svg\" alt=\"Open In Colab\"/></a>"
      ]
    },
    {
      "cell_type": "markdown",
      "metadata": {
        "id": "43CdS8VlfSva"
      },
      "source": [
        "# References"
      ]
    },
    {
      "cell_type": "markdown",
      "metadata": {
        "id": "JWAAkH2QfqM1"
      },
      "source": [
        "- Bray, N. L., Pimentel, H., Melsted, P., & Pachter, L. (2016). Near-optimal probabilistic RNA-seq quantification. Nature biotechnology, 34(5), 525-527.[link text](https://www.nature.com/articles/nbt.3519?report=reader)\n",
        "\n",
        "- Ewels, P., Magnusson, M., Lundin, S., & Käller, M. (2016). MultiQC: summarize analysis results for multiple tools and samples in a single report. Bioinformatics, 32(19), 3047-3048.[link text](https://academic.oup.com/bioinformatics/article/32/19/3047/2196507)\n",
        "\n",
        "- Pimentel, H., Bray, N. L., Puente, S., Melsted, P., & Pachter, L. (2017). Differential analysis of RNA-seq incorporating quantification uncertainty. Nature methods, 14(7), 687.[link text](https://www.nature.com/articles/nmeth.4324)"
      ]
    },
    {
      "cell_type": "markdown",
      "metadata": {
        "id": "dpocdGM_3rQV"
      },
      "source": [
        "# Install packages"
      ]
    },
    {
      "cell_type": "code",
      "metadata": {
        "id": "EfSjr027DNR1"
      },
      "source": [
        "!kallisto"
      ],
      "execution_count": null,
      "outputs": []
    },
    {
      "cell_type": "code",
      "metadata": {
        "colab": {
          "base_uri": "https://localhost:8080/"
        },
        "id": "y3zqwCpiDlTS",
        "outputId": "2f224479-0608-4a36-a589-ee6e3acf365f"
      },
      "source": [
        "%cd bucket/Mo"
      ],
      "execution_count": null,
      "outputs": [
        {
          "output_type": "stream",
          "text": [
            "/home/jupyter/bucket/Mo\n"
          ],
          "name": "stdout"
        }
      ]
    },
    {
      "cell_type": "markdown",
      "metadata": {
        "id": "OgQP4Fkm9t9D"
      },
      "source": [
        "# Get the cDNA file"
      ]
    },
    {
      "cell_type": "code",
      "metadata": {
        "id": "JFh9GG1JEQ4w"
      },
      "source": [
        "!mkdir index"
      ],
      "execution_count": null,
      "outputs": []
    },
    {
      "cell_type": "code",
      "metadata": {
        "colab": {
          "base_uri": "https://localhost:8080/"
        },
        "id": "0njB2oRYDqKJ",
        "outputId": "d05a3e4b-c98f-4024-d5f4-45557bb17a7a"
      },
      "source": [
        "cd index"
      ],
      "execution_count": null,
      "outputs": [
        {
          "output_type": "stream",
          "text": [
            "/home/jupyter/bucket/Mo/index\n"
          ],
          "name": "stdout"
        }
      ]
    },
    {
      "cell_type": "code",
      "metadata": {
        "colab": {
          "base_uri": "https://localhost:8080/"
        },
        "id": "Z8JmHk5S8ogw",
        "outputId": "97924707-69d4-4f5d-cb17-0722a0f3118c"
      },
      "source": [
        "%cd /home/jupyter/bucket/Mo/index"
      ],
      "execution_count": null,
      "outputs": [
        {
          "output_type": "stream",
          "text": [
            "/home/jupyter/bucket/Mo/index\n"
          ],
          "name": "stdout"
        }
      ]
    },
    {
      "cell_type": "code",
      "metadata": {
        "id": "lPwqQtIy9wCb",
        "colab": {
          "base_uri": "https://localhost:8080/"
        },
        "outputId": "755ef3e6-b9f7-417d-ada0-8c0220408b66"
      },
      "source": [
        "!kallisto index --make-unique -i kallisto_index2.idx Mycobacterium_tuberculosis_h37rv.ASM19595v2.cdna.all.fa.gz"
      ],
      "execution_count": null,
      "outputs": [
        {
          "output_type": "stream",
          "text": [
            "\r\n",
            "[build] loading fasta file Mycobacterium_tuberculosis_h37rv.ASM19595v2.cdna.all.fa.gz\r\n",
            "[build] k-mer length: 31\n",
            "[build] counting k-mers ... done.\n",
            "[build] building target de Bruijn graph ...  done \n",
            "[build] creating equivalence classes ...  done\n",
            "[build] target de Bruijn graph has 3917 contigs and contains 2830585 k-mers \n",
            "\n"
          ],
          "name": "stdout"
        }
      ]
    },
    {
      "cell_type": "markdown",
      "metadata": {
        "id": "64QoVxlq7xMc"
      },
      "source": [
        "# Creating folder structure"
      ]
    },
    {
      "cell_type": "code",
      "metadata": {
        "id": "FYYIXjsi03We",
        "colab": {
          "base_uri": "https://localhost:8080/"
        },
        "outputId": "ee1c389c-bc76-4cb5-a599-e43dbc892f28"
      },
      "source": [
        "ls"
      ],
      "execution_count": null,
      "outputs": [
        {
          "output_type": "stream",
          "text": [
            "\u001b[0m\u001b[01;31mMycobacterium_tuberculosis_h37ra_gca_000016145.ASM1614v1.cdna.all.fa.gz\u001b[0m\r\n",
            "\u001b[01;31mMycobacterium_tuberculosis_h37rv.ASM19595v2.cdna.all.fa.gz\u001b[0m\r\n",
            "kallisto_index.idx\r\n",
            "kallisto_index2.idx\r\n",
            "log\r\n"
          ],
          "name": "stdout"
        }
      ]
    },
    {
      "cell_type": "code",
      "metadata": {
        "id": "I1ootEst03ez",
        "colab": {
          "base_uri": "https://localhost:8080/"
        },
        "outputId": "822a5d5b-327a-43f1-be8c-a1a1e3deb0cb"
      },
      "source": [
        "cd .."
      ],
      "execution_count": null,
      "outputs": [
        {
          "output_type": "stream",
          "text": [
            "/home/jupyter/bucket/Mo\n"
          ],
          "name": "stdout"
        }
      ]
    },
    {
      "cell_type": "code",
      "metadata": {
        "id": "2IgDkJHp0o0x"
      },
      "source": [
        "mkdir Kallisto_results2"
      ],
      "execution_count": null,
      "outputs": []
    },
    {
      "cell_type": "code",
      "metadata": {
        "colab": {
          "base_uri": "https://localhost:8080/"
        },
        "id": "aN3b3C-T9u6Z",
        "outputId": "8ecf436b-a7e6-4dd0-a9fc-d5de05602dee"
      },
      "source": [
        "ls"
      ],
      "execution_count": null,
      "outputs": [
        {
          "output_type": "stream",
          "text": [
            "\u001b[0m\u001b[01;34mKallisto_results\u001b[0m/  \u001b[01;34mKallisto_results2\u001b[0m/  \u001b[01;34mMo_Seq_data_2021\u001b[0m/  \u001b[01;34mindex\u001b[0m/\r\n"
          ],
          "name": "stdout"
        }
      ]
    },
    {
      "cell_type": "markdown",
      "metadata": {
        "id": "k-leunWsIfer"
      },
      "source": [
        "# Alignment"
      ]
    },
    {
      "cell_type": "code",
      "metadata": {
        "colab": {
          "base_uri": "https://localhost:8080/"
        },
        "id": "7nZwG9AY0WON",
        "outputId": "c2feb211-1019-4a9d-ccc8-745cda43184c"
      },
      "source": [
        "%%!\n",
        "cd /home/jupyter/bucket/Mo/Mo_Seq_data_2021/\n",
        "for DIR in $(ls -d */); do\n",
        "  echo $DIR\n",
        "  cd $DIR\n",
        "  seq_file1=*_1.fastq.gz\n",
        "  seq_file2=*_2.fastq.gz\n",
        "  base=$(echo $seq_file1|awk '{print substr($0, 1, length()-11)}')\n",
        "  echo $base\n",
        "  echo \"Running Kallisto with the following code\"\n",
        "  echo \"kallisto quant -i /home/jupyter/bucket/Mo/index/kallisto_index2.idx -o /home/jupyter/bucket/Mo/Kallisto_results2/$DIR -t 16 --bias -b 50 $seq_file1 $seq_file2 >>log 2>&1\"\n",
        "  echo $seq_file1\n",
        "  echo $seq_file2\n",
        "  #kallisto quant -i /home/jupyter/index/kallisto_index.idx -o /home/jupyter/bucket/kallisto_test/$DIR -t 8 --bias --rf-stranded $seq_file1 $seq_file2\n",
        "  kallisto quant -i /home/jupyter/bucket/Mo/index/kallisto_index2.idx -o /home/jupyter/bucket/Mo/Kallisto_results2/$DIR -t 16 --bias -b 50 $seq_file1 $seq_file2 >>log 2>&1\n",
        "  cd ..\n",
        "done"
      ],
      "execution_count": null,
      "outputs": [
        {
          "output_type": "execute_result",
          "data": {
            "text/plain": [
              "['C18A1/',\n",
              " 'WTCHG_845237_70865062',\n",
              " 'Running Kallisto with the following code',\n",
              " 'kallisto quant -i /home/jupyter/bucket/Mo/index/kallisto_index2.idx -o /home/jupyter/bucket/Mo/Kallisto_results2/C18A1/ -t 16 --bias -b 50 *_1.fastq.gz *_2.fastq.gz >>log 2>&1',\n",
              " 'WTCHG_845237_70865062_1.fastq.gz',\n",
              " 'WTCHG_845237_70865062_2.fastq.gz',\n",
              " 'C18A2/',\n",
              " 'WTCHG_845237_70885064',\n",
              " 'Running Kallisto with the following code',\n",
              " 'kallisto quant -i /home/jupyter/bucket/Mo/index/kallisto_index2.idx -o /home/jupyter/bucket/Mo/Kallisto_results2/C18A2/ -t 16 --bias -b 50 *_1.fastq.gz *_2.fastq.gz >>log 2>&1',\n",
              " 'WTCHG_845237_70885064_1.fastq.gz',\n",
              " 'WTCHG_845237_70885064_2.fastq.gz',\n",
              " 'C18A3/',\n",
              " 'WTCHG_845237_70925068',\n",
              " 'Running Kallisto with the following code',\n",
              " 'kallisto quant -i /home/jupyter/bucket/Mo/index/kallisto_index2.idx -o /home/jupyter/bucket/Mo/Kallisto_results2/C18A3/ -t 16 --bias -b 50 *_1.fastq.gz *_2.fastq.gz >>log 2>&1',\n",
              " 'WTCHG_845237_70925068_1.fastq.gz',\n",
              " 'WTCHG_845237_70925068_2.fastq.gz',\n",
              " 'C18B2/',\n",
              " 'WTCHG_845237_70895065',\n",
              " 'Running Kallisto with the following code',\n",
              " 'kallisto quant -i /home/jupyter/bucket/Mo/index/kallisto_index2.idx -o /home/jupyter/bucket/Mo/Kallisto_results2/C18B2/ -t 16 --bias -b 50 *_1.fastq.gz *_2.fastq.gz >>log 2>&1',\n",
              " 'WTCHG_845237_70895065_1.fastq.gz',\n",
              " 'WTCHG_845237_70895065_2.fastq.gz',\n",
              " 'C18B3/',\n",
              " 'WTCHG_845237_70935069',\n",
              " 'Running Kallisto with the following code',\n",
              " 'kallisto quant -i /home/jupyter/bucket/Mo/index/kallisto_index2.idx -o /home/jupyter/bucket/Mo/Kallisto_results2/C18B3/ -t 16 --bias -b 50 *_1.fastq.gz *_2.fastq.gz >>log 2>&1',\n",
              " 'WTCHG_845237_70935069_1.fastq.gz',\n",
              " 'WTCHG_845237_70935069_2.fastq.gz',\n",
              " 'C18B4/',\n",
              " 'WTCHG_845237_70965072',\n",
              " 'Running Kallisto with the following code',\n",
              " 'kallisto quant -i /home/jupyter/bucket/Mo/index/kallisto_index2.idx -o /home/jupyter/bucket/Mo/Kallisto_results2/C18B4/ -t 16 --bias -b 50 *_1.fastq.gz *_2.fastq.gz >>log 2>&1',\n",
              " 'WTCHG_845237_70965072_1.fastq.gz',\n",
              " 'WTCHG_845237_70965072_2.fastq.gz',\n",
              " 'IFN18A1/',\n",
              " 'WTCHG_845237_70875063',\n",
              " 'Running Kallisto with the following code',\n",
              " 'kallisto quant -i /home/jupyter/bucket/Mo/index/kallisto_index2.idx -o /home/jupyter/bucket/Mo/Kallisto_results2/IFN18A1/ -t 16 --bias -b 50 *_1.fastq.gz *_2.fastq.gz >>log 2>&1',\n",
              " 'WTCHG_845237_70875063_1.fastq.gz',\n",
              " 'WTCHG_845237_70875063_2.fastq.gz',\n",
              " 'IFN18A2/',\n",
              " 'WTCHG_845237_70905066',\n",
              " 'Running Kallisto with the following code',\n",
              " 'kallisto quant -i /home/jupyter/bucket/Mo/index/kallisto_index2.idx -o /home/jupyter/bucket/Mo/Kallisto_results2/IFN18A2/ -t 16 --bias -b 50 *_1.fastq.gz *_2.fastq.gz >>log 2>&1',\n",
              " 'WTCHG_845237_70905066_1.fastq.gz',\n",
              " 'WTCHG_845237_70905066_2.fastq.gz',\n",
              " 'IFN18A3/',\n",
              " 'WTCHG_845237_70945070',\n",
              " 'Running Kallisto with the following code',\n",
              " 'kallisto quant -i /home/jupyter/bucket/Mo/index/kallisto_index2.idx -o /home/jupyter/bucket/Mo/Kallisto_results2/IFN18A3/ -t 16 --bias -b 50 *_1.fastq.gz *_2.fastq.gz >>log 2>&1',\n",
              " 'WTCHG_845237_70945070_1.fastq.gz',\n",
              " 'WTCHG_845237_70945070_2.fastq.gz',\n",
              " 'IFN18B2/',\n",
              " 'WTCHG_845237_70915067',\n",
              " 'Running Kallisto with the following code',\n",
              " 'kallisto quant -i /home/jupyter/bucket/Mo/index/kallisto_index2.idx -o /home/jupyter/bucket/Mo/Kallisto_results2/IFN18B2/ -t 16 --bias -b 50 *_1.fastq.gz *_2.fastq.gz >>log 2>&1',\n",
              " 'WTCHG_845237_70915067_1.fastq.gz',\n",
              " 'WTCHG_845237_70915067_2.fastq.gz',\n",
              " 'IFN18B3/',\n",
              " 'WTCHG_845237_70955071',\n",
              " 'Running Kallisto with the following code',\n",
              " 'kallisto quant -i /home/jupyter/bucket/Mo/index/kallisto_index2.idx -o /home/jupyter/bucket/Mo/Kallisto_results2/IFN18B3/ -t 16 --bias -b 50 *_1.fastq.gz *_2.fastq.gz >>log 2>&1',\n",
              " 'WTCHG_845237_70955071_1.fastq.gz',\n",
              " 'WTCHG_845237_70955071_2.fastq.gz',\n",
              " 'IFN18B4/',\n",
              " 'WTCHG_845237_70015073',\n",
              " 'Running Kallisto with the following code',\n",
              " 'kallisto quant -i /home/jupyter/bucket/Mo/index/kallisto_index2.idx -o /home/jupyter/bucket/Mo/Kallisto_results2/IFN18B4/ -t 16 --bias -b 50 *_1.fastq.gz *_2.fastq.gz >>log 2>&1',\n",
              " 'WTCHG_845237_70015073_1.fastq.gz',\n",
              " 'WTCHG_845237_70015073_2.fastq.gz']"
            ]
          },
          "metadata": {
            "tags": []
          },
          "execution_count": 40
        }
      ]
    },
    {
      "cell_type": "markdown",
      "metadata": {
        "id": "jKvM191lYqmm"
      },
      "source": [
        "# QC"
      ]
    },
    {
      "cell_type": "markdown",
      "metadata": {
        "id": "_dgeUjsHl_KC"
      },
      "source": [
        "## FastQC"
      ]
    },
    {
      "cell_type": "code",
      "metadata": {
        "id": "plsj4zc6QdO-"
      },
      "source": [
        "pwd"
      ],
      "execution_count": null,
      "outputs": []
    },
    {
      "cell_type": "code",
      "metadata": {
        "id": "pBLNNwVatoHG"
      },
      "source": [
        "ls"
      ],
      "execution_count": null,
      "outputs": []
    },
    {
      "cell_type": "code",
      "metadata": {
        "id": "ULwnyDdLYp5E"
      },
      "source": [
        "%%!\n",
        "cd fastq\n",
        "for DIR in $(ls -d */); do\n",
        "  echo $DIR\n",
        "  cd $DIR\n",
        "  /content/FastQC/fastqc *.fastq.gz\n",
        "  cd ..\n",
        "done"
      ],
      "execution_count": null,
      "outputs": []
    },
    {
      "cell_type": "code",
      "metadata": {
        "id": "ONOqsusIu1kr"
      },
      "source": [
        "ls"
      ],
      "execution_count": null,
      "outputs": []
    },
    {
      "cell_type": "markdown",
      "metadata": {
        "id": "MyLnsAaMmBqR"
      },
      "source": [
        "## MultiQC"
      ]
    },
    {
      "cell_type": "code",
      "metadata": {
        "id": "d4EBzyy42MvA"
      },
      "source": [
        "pip install multiqc"
      ],
      "execution_count": null,
      "outputs": []
    },
    {
      "cell_type": "code",
      "metadata": {
        "colab": {
          "base_uri": "https://localhost:8080/"
        },
        "id": "YBHKU7uA2P6T",
        "outputId": "b158e71e-b8e1-4551-abdd-f6b12857f311"
      },
      "source": [
        "%cd /home/jupyter/bucket/Mo/"
      ],
      "execution_count": null,
      "outputs": [
        {
          "output_type": "stream",
          "text": [
            "/home/jupyter/bucket/Mo\n"
          ],
          "name": "stdout"
        }
      ]
    },
    {
      "cell_type": "code",
      "metadata": {
        "id": "t357F78tl1Ba",
        "colab": {
          "base_uri": "https://localhost:8080/"
        },
        "outputId": "38ed41d8-dd5e-47e5-b69f-b27a8c8a3e72"
      },
      "source": [
        "!multiqc ."
      ],
      "execution_count": null,
      "outputs": [
        {
          "output_type": "stream",
          "text": [
            "\u001b[1;30m[INFO   ]\u001b[0m         multiqc : This is MultiQC v1.10.1\r\n",
            "\u001b[1;30m[INFO   ]\u001b[0m         multiqc : Template    : default\r\n",
            "\u001b[1;30m[INFO   ]\u001b[0m         multiqc : Searching   : /home/jupyter/bucket/Mo\n",
            "\u001b[2KSearching   \u001b[90m━━━━━━━━━━━━━━━━━━━━━━━━━━━━━━━━━━━━━━━━\u001b[0m \u001b[35m100%\u001b[0m \u001b[32m190/190\u001b[0m  \n",
            "\u001b[?25h\u001b[1;30m[INFO   ]\u001b[0m        kallisto : Found 12 reports\n",
            "\u001b[1;30m[INFO   ]\u001b[0m          fastqc : Found 24 reports\n",
            "\u001b[1;30m[INFO   ]\u001b[0m         multiqc : Compressing plot data\n",
            "\u001b[1;30m[INFO   ]\u001b[0m         multiqc : Report      : multiqc_report.html\n",
            "\u001b[1;30m[INFO   ]\u001b[0m         multiqc : Data        : multiqc_data\n",
            "\u001b[1;30m[INFO   ]\u001b[0m         multiqc : MultiQC complete\n"
          ],
          "name": "stdout"
        }
      ]
    },
    {
      "cell_type": "markdown",
      "metadata": {
        "id": "-qf8rRpRjc0W"
      },
      "source": [
        "# Creating our gene expresssion matrix with R"
      ]
    },
    {
      "cell_type": "markdown",
      "metadata": {
        "id": "LKlG_mbf4Xh_"
      },
      "source": [
        "## Load packages"
      ]
    },
    {
      "cell_type": "code",
      "metadata": {
        "id": "PD5oFxyvZ0O4"
      },
      "source": [
        "%load_ext rpy2.ipython"
      ],
      "execution_count": null,
      "outputs": []
    },
    {
      "cell_type": "code",
      "metadata": {
        "id": "5DwqXh0_4anD",
        "colab": {
          "base_uri": "https://localhost:8080/"
        },
        "outputId": "4cbc3ed7-28a8-48ef-a558-e8bdfb8c09e6"
      },
      "source": [
        "%%R\n",
        "# Load all the R libraries we will be using in the notebook\n",
        "#library(tximport)\n",
        "library(biomaRt)\n",
        "library(Biobase)\n",
        "library(ggplot2)\n",
        "library(dplyr)\n",
        "#library(tidyverse) \n",
        "library(Biostrings)\n",
        "library(ensembldb)\n",
        "#library(EnsDb.Hsapiens.v86) \n",
        "library(rhdf5)\n",
        "library(gplots)\n",
        "library(genefilter)\n"
      ],
      "execution_count": null,
      "outputs": [
        {
          "output_type": "stream",
          "name": "stderr",
          "text": [
            "R[write to console]: Loading required package: BiocGenerics\n",
            "\n",
            "R[write to console]: Loading required package: parallel\n",
            "\n",
            "R[write to console]: \n",
            "Attaching package: ‘BiocGenerics’\n",
            "\n",
            "\n",
            "R[write to console]: The following objects are masked from ‘package:parallel’:\n",
            "\n",
            "    clusterApply, clusterApplyLB, clusterCall, clusterEvalQ,\n",
            "    clusterExport, clusterMap, parApply, parCapply, parLapply,\n",
            "    parLapplyLB, parRapply, parSapply, parSapplyLB\n",
            "\n",
            "\n",
            "R[write to console]: The following objects are masked from ‘package:stats’:\n",
            "\n",
            "    IQR, mad, sd, var, xtabs\n",
            "\n",
            "\n",
            "R[write to console]: The following objects are masked from ‘package:base’:\n",
            "\n",
            "    anyDuplicated, append, as.data.frame, basename, cbind, colnames,\n",
            "    dirname, do.call, duplicated, eval, evalq, Filter, Find, get, grep,\n",
            "    grepl, intersect, is.unsorted, lapply, Map, mapply, match, mget,\n",
            "    order, paste, pmax, pmax.int, pmin, pmin.int, Position, rank,\n",
            "    rbind, Reduce, rownames, sapply, setdiff, sort, table, tapply,\n",
            "    union, unique, unsplit, which.max, which.min\n",
            "\n",
            "\n",
            "R[write to console]: Welcome to Bioconductor\n",
            "\n",
            "    Vignettes contain introductory material; view with\n",
            "    'browseVignettes()'. To cite Bioconductor, see\n",
            "    'citation(\"Biobase\")', and for packages 'citation(\"pkgname\")'.\n",
            "\n",
            "\n",
            "R[write to console]: \n",
            "Attaching package: ‘dplyr’\n",
            "\n",
            "\n",
            "R[write to console]: The following object is masked from ‘package:Biobase’:\n",
            "\n",
            "    combine\n",
            "\n",
            "\n",
            "R[write to console]: The following objects are masked from ‘package:BiocGenerics’:\n",
            "\n",
            "    combine, intersect, setdiff, union\n",
            "\n",
            "\n",
            "R[write to console]: The following object is masked from ‘package:biomaRt’:\n",
            "\n",
            "    select\n",
            "\n",
            "\n",
            "R[write to console]: The following objects are masked from ‘package:stats’:\n",
            "\n",
            "    filter, lag\n",
            "\n",
            "\n",
            "R[write to console]: The following objects are masked from ‘package:base’:\n",
            "\n",
            "    intersect, setdiff, setequal, union\n",
            "\n",
            "\n",
            "R[write to console]: Loading required package: S4Vectors\n",
            "\n",
            "R[write to console]: Loading required package: stats4\n",
            "\n",
            "R[write to console]: \n",
            "Attaching package: ‘S4Vectors’\n",
            "\n",
            "\n",
            "R[write to console]: The following objects are masked from ‘package:dplyr’:\n",
            "\n",
            "    first, rename\n",
            "\n",
            "\n",
            "R[write to console]: The following objects are masked from ‘package:base’:\n",
            "\n",
            "    expand.grid, I, unname\n",
            "\n",
            "\n",
            "R[write to console]: Loading required package: IRanges\n",
            "\n",
            "R[write to console]: \n",
            "Attaching package: ‘IRanges’\n",
            "\n",
            "\n",
            "R[write to console]: The following objects are masked from ‘package:dplyr’:\n",
            "\n",
            "    collapse, desc, slice\n",
            "\n",
            "\n",
            "R[write to console]: Loading required package: XVector\n",
            "\n",
            "R[write to console]: Loading required package: GenomeInfoDb\n",
            "\n",
            "R[write to console]: \n",
            "Attaching package: ‘Biostrings’\n",
            "\n",
            "\n",
            "R[write to console]: The following object is masked from ‘package:base’:\n",
            "\n",
            "    strsplit\n",
            "\n",
            "\n",
            "R[write to console]: Loading required package: GenomicRanges\n",
            "\n",
            "R[write to console]: Loading required package: GenomicFeatures\n",
            "\n",
            "R[write to console]: Loading required package: AnnotationDbi\n",
            "\n",
            "R[write to console]: \n",
            "Attaching package: ‘AnnotationDbi’\n",
            "\n",
            "\n",
            "R[write to console]: The following object is masked from ‘package:dplyr’:\n",
            "\n",
            "    select\n",
            "\n",
            "\n",
            "R[write to console]: Loading required package: AnnotationFilter\n",
            "\n",
            "R[write to console]: \n",
            "Attaching package: 'ensembldb'\n",
            "\n",
            "\n",
            "R[write to console]: The following object is masked from 'package:dplyr':\n",
            "\n",
            "    filter\n",
            "\n",
            "\n",
            "R[write to console]: The following object is masked from 'package:stats':\n",
            "\n",
            "    filter\n",
            "\n",
            "\n",
            "R[write to console]: \n",
            "Attaching package: 'gplots'\n",
            "\n",
            "\n",
            "R[write to console]: The following object is masked from 'package:IRanges':\n",
            "\n",
            "    space\n",
            "\n",
            "\n",
            "R[write to console]: The following object is masked from 'package:S4Vectors':\n",
            "\n",
            "    space\n",
            "\n",
            "\n",
            "R[write to console]: The following object is masked from 'package:stats':\n",
            "\n",
            "    lowess\n",
            "\n",
            "\n"
          ]
        }
      ]
    },
    {
      "cell_type": "markdown",
      "metadata": {
        "id": "hXBX3gFIf2I1"
      },
      "source": [
        "## Set WD"
      ]
    },
    {
      "cell_type": "code",
      "metadata": {
        "id": "0V2QfLq2P0LW",
        "colab": {
          "base_uri": "https://localhost:8080/"
        },
        "outputId": "6cbdf182-b89b-4575-a961-c309d27c1216"
      },
      "source": [
        "pwd"
      ],
      "execution_count": null,
      "outputs": [
        {
          "output_type": "execute_result",
          "data": {
            "text/plain": [
              "'/Users/andres'"
            ]
          },
          "metadata": {},
          "execution_count": 3
        }
      ]
    },
    {
      "cell_type": "code",
      "metadata": {
        "id": "hTSfi3CQP3V9",
        "colab": {
          "base_uri": "https://localhost:8080/"
        },
        "outputId": "1b936e1c-7110-4ea8-de06-11045129866b"
      },
      "source": [
        "%cd /home/jupyter/bucket/Mo/Kallisto_results2"
      ],
      "execution_count": null,
      "outputs": [
        {
          "output_type": "stream",
          "text": [
            "/home/jupyter/bucket/Mo/Kallisto_results2\n"
          ],
          "name": "stdout"
        }
      ]
    },
    {
      "cell_type": "code",
      "metadata": {
        "id": "cgUJj5Lyf0nB"
      },
      "source": [
        "%%R\n",
        "setwd(\"/home/jupyter/Dress/kalisto_results\")"
      ],
      "execution_count": null,
      "outputs": []
    },
    {
      "cell_type": "markdown",
      "metadata": {
        "id": "IIzJQFp3f6t7"
      },
      "source": [
        "## T2G table "
      ]
    },
    {
      "cell_type": "code",
      "metadata": {
        "id": "7tphVlm2qBDk",
        "colab": {
          "base_uri": "https://localhost:8080/"
        },
        "outputId": "130c7d07-5ed6-401d-bd67-068558376f04"
      },
      "source": [
        "%%R\n",
        "metadata<-read.csv(\"/home/jupyter/bucket/Mo/Mo_Seq_data_2021/metadata_Mo.csv\")\n",
        "metadata"
      ],
      "execution_count": null,
      "outputs": [
        {
          "output_type": "stream",
          "text": [
            "                  sample  folder   group batch\n",
            "1  WTCHG_845237_70015073 IFN18B4    infg  EXP4\n",
            "2  WTCHG_845237_70865062   C18A1 control  EXP1\n",
            "3  WTCHG_845237_70875063 IFN18A1    infg  EXP1\n",
            "4  WTCHG_845237_70885064   C18A2 control  EXP2\n",
            "5  WTCHG_845237_70895065   C18B2 control  EXP2\n",
            "6  WTCHG_845237_70905066 IFN18A2    infg  EXP2\n",
            "7  WTCHG_845237_70915067 IFN18B2    infg  EXP2\n",
            "8  WTCHG_845237_70925068   C18A3 control  EXP3\n",
            "9  WTCHG_845237_70935069   C18B3 control  EXP3\n",
            "10 WTCHG_845237_70945070 IFN18A3    infg  EXP3\n",
            "11 WTCHG_845237_70955071 IFN18B3    infg  EXP3\n",
            "12 WTCHG_845237_70965072   C18B4 control  EXP4\n"
          ],
          "name": "stdout"
        }
      ]
    },
    {
      "cell_type": "code",
      "metadata": {
        "colab": {
          "base_uri": "https://localhost:8080/"
        },
        "id": "ALeeX37cry36",
        "outputId": "ce2e4f9d-7063-44ad-9ec0-0bfcf102a76b"
      },
      "source": [
        "%%R\n",
        "metadata<-read.csv(\"/home/jupyter/bucket/Mo/metadata_Mo3.csv\")\n",
        "metadata\n"
      ],
      "execution_count": null,
      "outputs": [
        {
          "output_type": "stream",
          "text": [
            "                  sample  folder   group batch\n",
            "1  WTCHG_845237_70015073 IFN18B4    infg  EXP4\n",
            "2  WTCHG_845237_70865062   C18A1 control  EXP1\n",
            "3  WTCHG_845237_70875063 IFN18A1    infg  EXP1\n",
            "4  WTCHG_845237_70885064   C18A2 control  EXP2\n",
            "5  WTCHG_845237_70895065   C18B2 control  EXP2\n",
            "6  WTCHG_845237_70905066 IFN18A2    infg  EXP2\n",
            "7  WTCHG_845237_70915067 IFN18B2    infg  EXP2\n",
            "8  WTCHG_845237_70935069   C18B3 control  EXP3\n",
            "9  WTCHG_845237_70955071 IFN18B3    infg  EXP3\n",
            "10 WTCHG_845237_70965072   C18B4 control  EXP4\n"
          ],
          "name": "stdout"
        }
      ]
    },
    {
      "cell_type": "markdown",
      "metadata": {
        "id": "yfmEC3lsgIIb"
      },
      "source": [
        "## Check paths"
      ]
    },
    {
      "cell_type": "code",
      "metadata": {
        "id": "wM-8IL-Moqcv"
      },
      "source": [
        "%%R\n",
        "metadata <- dplyr::mutate(metadata,path =file.path(\"/home/jupyter/bucket/Mo/Kallisto_results3\",metadata$folder, \"abundance.h5\"))"
      ],
      "execution_count": null,
      "outputs": []
    },
    {
      "cell_type": "code",
      "metadata": {
        "id": "1rPYfxiKoqjv"
      },
      "source": [
        "%%R\n",
        "metadata <- dplyr::rename(metadata, Sample = sample)"
      ],
      "execution_count": null,
      "outputs": []
    },
    {
      "cell_type": "code",
      "metadata": {
        "id": "8ePqfU4yoqoM"
      },
      "source": [
        "%%R\n",
        "metadata <- dplyr::rename(metadata, sample = folder)"
      ],
      "execution_count": null,
      "outputs": []
    },
    {
      "cell_type": "code",
      "metadata": {
        "colab": {
          "base_uri": "https://localhost:8080/"
        },
        "id": "euCiyCqkoqr3",
        "outputId": "e623bb1e-3fb4-43e7-fbe2-3c197824bcff"
      },
      "source": [
        "%%R\n",
        "metadata"
      ],
      "execution_count": null,
      "outputs": [
        {
          "output_type": "stream",
          "text": [
            "                  Sample  sample   group batch\n",
            "1  WTCHG_845237_70015073 IFN18B4    infg  EXP4\n",
            "2  WTCHG_845237_70865062   C18A1 control  EXP1\n",
            "3  WTCHG_845237_70875063 IFN18A1    infg  EXP1\n",
            "4  WTCHG_845237_70885064   C18A2 control  EXP2\n",
            "5  WTCHG_845237_70895065   C18B2 control  EXP2\n",
            "6  WTCHG_845237_70905066 IFN18A2    infg  EXP2\n",
            "7  WTCHG_845237_70915067 IFN18B2    infg  EXP2\n",
            "8  WTCHG_845237_70935069   C18B3 control  EXP3\n",
            "9  WTCHG_845237_70955071 IFN18B3    infg  EXP3\n",
            "10 WTCHG_845237_70965072   C18B4 control  EXP4\n",
            "                                                             path\n",
            "1  /home/jupyter/bucket/Mo/Kallisto_results3/IFN18B4/abundance.h5\n",
            "2    /home/jupyter/bucket/Mo/Kallisto_results3/C18A1/abundance.h5\n",
            "3  /home/jupyter/bucket/Mo/Kallisto_results3/IFN18A1/abundance.h5\n",
            "4    /home/jupyter/bucket/Mo/Kallisto_results3/C18A2/abundance.h5\n",
            "5    /home/jupyter/bucket/Mo/Kallisto_results3/C18B2/abundance.h5\n",
            "6  /home/jupyter/bucket/Mo/Kallisto_results3/IFN18A2/abundance.h5\n",
            "7  /home/jupyter/bucket/Mo/Kallisto_results3/IFN18B2/abundance.h5\n",
            "8    /home/jupyter/bucket/Mo/Kallisto_results3/C18B3/abundance.h5\n",
            "9  /home/jupyter/bucket/Mo/Kallisto_results3/IFN18B3/abundance.h5\n",
            "10   /home/jupyter/bucket/Mo/Kallisto_results3/C18B4/abundance.h5\n"
          ],
          "name": "stdout"
        }
      ]
    },
    {
      "cell_type": "markdown",
      "source": [
        "#Exploratory data analysis with Sleuth"
      ],
      "metadata": {
        "id": "yy39s0B9c2fs"
      }
    },
    {
      "cell_type": "code",
      "metadata": {
        "id": "-kO4FArwp8b_"
      },
      "source": [
        "%%R\n",
        "library(sleuth)"
      ],
      "execution_count": null,
      "outputs": []
    },
    {
      "cell_type": "code",
      "metadata": {
        "colab": {
          "base_uri": "https://localhost:8080/"
        },
        "id": "IAIU31f1oqvb",
        "outputId": "431957f1-5d77-4dac-cfa0-390d96415c45"
      },
      "source": [
        "%%R\n",
        "\n",
        "so_GS1 <- sleuth_prep(metadata, extra_bootstrap_summary = TRUE,read_bootstrap_tpm = TRUE,num_cores=16)"
      ],
      "execution_count": null,
      "outputs": [
        {
          "output_type": "stream",
          "text": [
            "R[write to console]: reading in kallisto results\n",
            "\n",
            "R[write to console]: dropping unused factor levels\n",
            "\n",
            "R[write to console]: .\n",
            "R[write to console]: .\n",
            "R[write to console]: .\n",
            "R[write to console]: .\n",
            "R[write to console]: .\n",
            "R[write to console]: .\n",
            "R[write to console]: .\n",
            "R[write to console]: .\n",
            "R[write to console]: .\n",
            "R[write to console]: .\n",
            "R[write to console]: \n",
            "\n",
            "R[write to console]: normalizing est_counts\n",
            "\n",
            "R[write to console]: 4125 targets passed the filter\n",
            "\n",
            "R[write to console]: normalizing tpm\n",
            "\n",
            "R[write to console]: merging in metadata\n",
            "\n",
            "R[write to console]: summarizing bootstraps\n",
            "\n",
            "R[write to console]: \n",
            "\n"
          ],
          "name": "stderr"
        }
      ]
    },
    {
      "cell_type": "code",
      "metadata": {
        "id": "saRAYgLup0fB"
      },
      "source": [
        "%%R\n",
        "saveRDS(so_GS1,\"so_H37Rv_Mo_excluding1sample.rds\")"
      ],
      "execution_count": null,
      "outputs": []
    },
    {
      "cell_type": "code",
      "metadata": {
        "id": "-9qJHujap0jI",
        "colab": {
          "base_uri": "https://localhost:8080/"
        },
        "outputId": "c39acd98-8822-4317-c2a3-70eba948d2e1"
      },
      "source": [
        "%%R\n",
        "so_GS1 <- sleuth_fit(so_GS1, ~batch, 'reduced')\n",
        "so_GS1<- sleuth_fit(so_GS1, ~batch +  group, 'full')\n",
        "so_GS1<- sleuth_lrt(so_GS1, \"reduced\",'full')\n",
        "models(so_GS1)"
      ],
      "execution_count": null,
      "outputs": [
        {
          "output_type": "stream",
          "text": [
            "R[write to console]: fitting measurement error models\n",
            "\n",
            "R[write to console]: shrinkage estimation\n",
            "\n",
            "R[write to console]: 13 NA values were found during variance shrinkage estimation due to mean observation values outside of the range used for the LOESS fit.\n",
            "The LOESS fit will be repeated using exact computation of the fitted surface to extrapolate the missing values.\n",
            "These are the target ids with NA values: MTB000023, MTB000046, MTB000047, MTB000069, MTB000140, MTB000146, MTB000150, Rv3022c, Rv3599c, MTB000020, MTB000026, MTB000042, MTB000078\n",
            "\n",
            "R[write to console]: computing variance of betas\n",
            "\n",
            "R[write to console]: fitting measurement error models\n",
            "\n",
            "R[write to console]: shrinkage estimation\n",
            "\n",
            "R[write to console]: 16 NA values were found during variance shrinkage estimation due to mean observation values outside of the range used for the LOESS fit.\n",
            "The LOESS fit will be repeated using exact computation of the fitted surface to extrapolate the missing values.\n",
            "These are the target ids with NA values: MTB000023, MTB000037, MTB000046, MTB000047, MTB000069, MTB000140, MTB000146, MTB000150, MTB000158, Rv3022c, Rv3599c, MTB000020, MTB000026, MTB000042, MTB000078, Rv1872c\n",
            "\n",
            "R[write to console]: computing variance of betas\n",
            "\n"
          ],
          "name": "stderr"
        },
        {
          "output_type": "stream",
          "text": [
            "[  reduced  ]\n",
            "formula:  ~batch \n",
            "data modeled:  obs_counts \n",
            "transform sync'ed:  TRUE \n",
            "coefficients:\n",
            "\t(Intercept)\n",
            " \tbatchEXP2\n",
            " \tbatchEXP3\n",
            " \tbatchEXP4\n",
            "[  full  ]\n",
            "formula:  ~batch + group \n",
            "data modeled:  obs_counts \n",
            "transform sync'ed:  TRUE \n",
            "coefficients:\n",
            "\t(Intercept)\n",
            " \tbatchEXP2\n",
            " \tbatchEXP3\n",
            " \tbatchEXP4\n",
            " \tgroupinfg\n"
          ],
          "name": "stdout"
        }
      ]
    },
    {
      "cell_type": "code",
      "metadata": {
        "id": "ea508Dynp0mo"
      },
      "source": [
        "%%R\n",
        "full_results_GS_lrt1 <- sleuth_results(so_GS1, 'reduced:full', \"lrt\",show_all = FALSE)"
      ],
      "execution_count": null,
      "outputs": []
    },
    {
      "cell_type": "code",
      "metadata": {
        "colab": {
          "base_uri": "https://localhost:8080/"
        },
        "id": "ZnTC1r613mzp",
        "outputId": "12d6a011-b552-4b68-cb0a-00b70d1c9f87"
      },
      "source": [
        "%%R\n",
        "sleuth_significant_GS_lrt1 <- dplyr::filter(full_results_GS_lrt1, pval <= 0.01)\n",
        "dim(sleuth_significant_GS_lrt1)"
      ],
      "execution_count": null,
      "outputs": [
        {
          "output_type": "stream",
          "text": [
            "[1] 151  12\n"
          ],
          "name": "stdout"
        }
      ]
    },
    {
      "cell_type": "code",
      "metadata": {
        "colab": {
          "base_uri": "https://localhost:8080/",
          "height": 497
        },
        "id": "MY2Nrf9_3m3b",
        "outputId": "1a687147-f5d2-4ae2-a87f-683d41014b93"
      },
      "source": [
        "%%R\n",
        "plot_pca(so_GS1, color_by = 'group', units='est_counts')"
      ],
      "execution_count": null,
      "outputs": [
        {
          "output_type": "display_data",
          "data": {
            "image/png": "[encoded data removed]"
          },
          "metadata": {
            "tags": []
          }
        }
      ]
    },
    {
      "cell_type": "code",
      "metadata": {
        "colab": {
          "base_uri": "https://localhost:8080/",
          "height": 497
        },
        "id": "DXKCqAPE3m6n",
        "outputId": "590ff1c0-79cb-43e1-8d05-3a0b241f2b52"
      },
      "source": [
        "%%R\n",
        "new_position_theme <- theme(legend.position = c(0.80, 0.90))\n",
        "plot_pca(so_GS1, color_by = 'batch', text_labels = TRUE,units=\"est_counts\")"
      ],
      "execution_count": null,
      "outputs": [
        {
          "output_type": "display_data",
          "data": {
            "image/png": "[encoded data removed]"
          },
          "metadata": {
            "tags": []
          }
        }
      ]
    },
    {
      "cell_type": "code",
      "metadata": {
        "colab": {
          "base_uri": "https://localhost:8080/",
          "height": 497
        },
        "id": "tdogmlYs3m_K",
        "outputId": "80e1225f-29e3-4297-c62c-47bfe56aca9a"
      },
      "source": [
        "%%R\n",
        "plot_loadings(so_GS1, pc_input = 1, units='est_counts')"
      ],
      "execution_count": null,
      "outputs": [
        {
          "output_type": "display_data",
          "data": {
            "image/png": "[encoded data removed]"
          },
          "metadata": {
            "tags": []
          }
        }
      ]
    },
    {
      "cell_type": "code",
      "metadata": {
        "id": "Z3S9kV2_I_nx"
      },
      "source": [
        "%%R\n",
        "sleuth_significant_GS_lrt1"
      ],
      "execution_count": null,
      "outputs": []
    },
    {
      "cell_type": "code",
      "metadata": {
        "colab": {
          "base_uri": "https://localhost:8080/"
        },
        "id": "zrLKnC243nDO",
        "outputId": "cf9be5b7-443a-4f30-cb50-8ef48bf809d0"
      },
      "source": [
        "%%R\n",
        "so_GS1<- sleuth_wt(so_GS1, \"groupinfg\",which_model = \"full\")\n",
        "full_results_EN_wt1 <- sleuth_results(so_GS1,'groupinfg',test_type = \"wt\", which_model = \"full\",show_all = FALSE, pval_aggregate = F)\n",
        "\n",
        "head(full_results_EN_wt1)"
      ],
      "execution_count": null,
      "outputs": [
        {
          "output_type": "stream",
          "text": [
            "  target_id         pval         qval           b       se_b mean_obs\n",
            "1    Rv3561 3.393189e-08 0.0001399691 -0.16557227 0.02999588 7.268993\n",
            "2 MTB000021 2.802497e-05 0.0385343273  0.14042064 0.03352169 8.687595\n",
            "3    Rv0188 2.562804e-05 0.0385343273  0.12878192 0.03059537 9.614959\n",
            "4    Rv0088 8.046673e-05 0.0623574157  0.09211148 0.02336073 8.391284\n",
            "5    Rv0393 6.375713e-05 0.0623574157 -0.12642120 0.03161751 7.346209\n",
            "6    Rv0747 1.058186e-04 0.0623574157 -0.09506887 0.02452221 8.020098\n",
            "     var_obs     tech_var     sigma_sq smooth_sigma_sq final_sigma_sq\n",
            "1 0.20385979 7.937699e-04 0.0011098002     0.001455611    0.001455611\n",
            "2 0.04379352 1.898826e-04 0.0026193767     0.001095516    0.002619377\n",
            "3 0.21166836 7.174815e-05 0.0022684433     0.001175341    0.002268443\n",
            "4 0.02758942 2.132530e-04 0.0011510561     0.001126613    0.001151056\n",
            "5 0.03280812 6.904292e-04 0.0018087376     0.001413457    0.001808738\n",
            "6 0.01307557 3.170471e-04 0.0007848451     0.001186300    0.001186300\n"
          ],
          "name": "stdout"
        }
      ]
    },
    {
      "cell_type": "code",
      "metadata": {
        "colab": {
          "base_uri": "https://localhost:8080/"
        },
        "id": "j9uv9Ge23nKF",
        "outputId": "0d885921-e912-44bc-d38f-990da1a2cc4a"
      },
      "source": [
        "%%R\n",
        "sleuth_significant_EN_wt1 <- dplyr::filter(full_results_EN_wt1, pval <= 0.05)\n",
        "head(sleuth_significant_EN_wt1, 20)"
      ],
      "execution_count": null,
      "outputs": [
        {
          "output_type": "stream",
          "text": [
            "   target_id         pval         qval           b       se_b mean_obs\n",
            "1     Rv3561 3.393189e-08 0.0001399691 -0.16557227 0.02999588 7.268993\n",
            "2  MTB000021 2.802497e-05 0.0385343273  0.14042064 0.03352169 8.687595\n",
            "3     Rv0188 2.562804e-05 0.0385343273  0.12878192 0.03059537 9.614959\n",
            "4     Rv0088 8.046673e-05 0.0623574157  0.09211148 0.02336073 8.391284\n",
            "5     Rv0393 6.375713e-05 0.0623574157 -0.12642120 0.03161751 7.346209\n",
            "6     Rv0747 1.058186e-04 0.0623574157 -0.09506887 0.02452221 8.020098\n",
            "7    Rv1686c 9.315504e-05 0.0623574157 -0.20216874 0.05173517 6.566017\n",
            "8    Rv1845c 1.553001e-04 0.0640612892 -0.09874930 0.02610732 8.731221\n",
            "9    Rv3559c 1.410379e-04 0.0640612892 -0.15346626 0.04031858 6.354793\n",
            "10    Rv3562 1.458354e-04 0.0640612892 -0.13456889 0.03543099 6.838561\n",
            "11   Rv1884c 4.387097e-04 0.1569678094  0.09297878 0.02644725 9.045027\n",
            "12    Rv3281 4.566336e-04 0.1569678094  0.07778371 0.02219231 8.863039\n",
            "13   Rv0869c 6.214602e-04 0.1923002417 -0.09405079 0.02748359 8.353565\n",
            "14    Rv1501 7.925101e-04 0.1923002417  0.09532036 0.02840807 7.372633\n",
            "15   Rv1739c 7.758000e-04 0.1923002417  0.07598722 0.02260658 9.826817\n",
            "16   Rv2347c 7.732282e-04 0.1923002417  0.12510537 0.03720933 8.522896\n",
            "17   Rv3556c 6.879493e-04 0.1923002417 -0.09580977 0.02822636 8.439840\n",
            "18    Rv0741 9.722133e-04 0.2006290194  0.08133812 0.02465952 8.047378\n",
            "19   Rv1448c 9.727468e-04 0.2006290194  0.07346913 0.02227490 8.723998\n",
            "20   Rv3824c 9.665616e-04 0.2006290194  0.08495603 0.02574360 8.776785\n",
            "      var_obs     tech_var     sigma_sq smooth_sigma_sq final_sigma_sq\n",
            "1  0.20385979 7.937699e-04 0.0011098002     0.001455611    0.001455611\n",
            "2  0.04379352 1.898826e-04 0.0026193767     0.001095516    0.002619377\n",
            "3  0.21166836 7.174815e-05 0.0022684433     0.001175341    0.002268443\n",
            "4  0.02758942 2.132530e-04 0.0011510561     0.001126613    0.001151056\n",
            "5  0.03280812 6.904292e-04 0.0018087376     0.001413457    0.001808738\n",
            "6  0.01307557 3.170471e-04 0.0007848451     0.001186300    0.001186300\n",
            "7  0.36031659 1.682110e-03 0.0050092108     0.002076059    0.005009211\n",
            "8  0.01952660 1.435751e-04 0.0015604050     0.001094026    0.001560405\n",
            "9  0.04509054 1.686094e-03 0.0021285406     0.002377875    0.002377875\n",
            "10 0.11844464 9.666877e-04 0.0021717000     0.001769415    0.002171700\n",
            "11 0.02087944 1.119918e-04 0.0016366507     0.001098357    0.001636651\n",
            "12 0.01983036 1.386910e-04 0.0007574275     0.001092556    0.001092556\n",
            "13 0.01518417 2.503098e-04 0.0016380589     0.001132786    0.001638059\n",
            "14 0.01052850 6.178707e-04 0.0011427205     0.001399675    0.001399675\n",
            "15 0.27920068 5.407683e-05 0.0011786211     0.001223567    0.001223567\n",
            "16 0.08021604 1.771244e-04 0.0032842105     0.001108264    0.003284210\n",
            "17 0.07528143 2.622133e-04 0.0017296046     0.001119194    0.001729605\n",
            "18 0.01654270 3.377813e-04 0.0011243205     0.001182449    0.001182449\n",
            "19 0.03246031 1.461890e-04 0.0007557649     0.001094238    0.001094238\n",
            "20 0.06085557 1.615179e-04 0.0014953147     0.001092996    0.001495315\n"
          ],
          "name": "stdout"
        }
      ]
    },
    {
      "cell_type": "code",
      "metadata": {
        "colab": {
          "base_uri": "https://localhost:8080/"
        },
        "id": "LW-TLes53QKN",
        "outputId": "18302cfc-c943-4de1-e32d-1752ef0a5038"
      },
      "source": [
        "%%R\n",
        "sleuth_significant_EN_wt1 <- dplyr::filter(full_results_EN_wt1, qval <= 0.1)\n",
        "head(sleuth_significant_EN_wt1, 20)"
      ],
      "execution_count": null,
      "outputs": [
        {
          "output_type": "stream",
          "text": [
            "   target_id         pval         qval           b       se_b mean_obs\n",
            "1     Rv3561 3.393189e-08 0.0001399691 -0.16557227 0.02999588 7.268993\n",
            "2  MTB000021 2.802497e-05 0.0385343273  0.14042064 0.03352169 8.687595\n",
            "3     Rv0188 2.562804e-05 0.0385343273  0.12878192 0.03059537 9.614959\n",
            "4     Rv0088 8.046673e-05 0.0623574157  0.09211148 0.02336073 8.391284\n",
            "5     Rv0393 6.375713e-05 0.0623574157 -0.12642120 0.03161751 7.346209\n",
            "6     Rv0747 1.058186e-04 0.0623574157 -0.09506887 0.02452221 8.020098\n",
            "7    Rv1686c 9.315504e-05 0.0623574157 -0.20216874 0.05173517 6.566017\n",
            "8    Rv1845c 1.553001e-04 0.0640612892 -0.09874930 0.02610732 8.731221\n",
            "9    Rv3559c 1.410379e-04 0.0640612892 -0.15346626 0.04031858 6.354793\n",
            "10    Rv3562 1.458354e-04 0.0640612892 -0.13456889 0.03543099 6.838561\n",
            "      var_obs     tech_var     sigma_sq smooth_sigma_sq final_sigma_sq\n",
            "1  0.20385979 7.937699e-04 0.0011098002     0.001455611    0.001455611\n",
            "2  0.04379352 1.898826e-04 0.0026193767     0.001095516    0.002619377\n",
            "3  0.21166836 7.174815e-05 0.0022684433     0.001175341    0.002268443\n",
            "4  0.02758942 2.132530e-04 0.0011510561     0.001126613    0.001151056\n",
            "5  0.03280812 6.904292e-04 0.0018087376     0.001413457    0.001808738\n",
            "6  0.01307557 3.170471e-04 0.0007848451     0.001186300    0.001186300\n",
            "7  0.36031659 1.682110e-03 0.0050092108     0.002076059    0.005009211\n",
            "8  0.01952660 1.435751e-04 0.0015604050     0.001094026    0.001560405\n",
            "9  0.04509054 1.686094e-03 0.0021285406     0.002377875    0.002377875\n",
            "10 0.11844464 9.666877e-04 0.0021717000     0.001769415    0.002171700\n"
          ],
          "name": "stdout"
        }
      ]
    },
    {
      "cell_type": "code",
      "metadata": {
        "id": "NUuwJYZNJk47"
      },
      "source": [
        "%%R\n",
        "write.csv(sleuth_significant_EN_wt1,'Significants_gene_sleuth_wt_pvalue_removing1sample.csv')"
      ],
      "execution_count": null,
      "outputs": []
    },
    {
      "cell_type": "code",
      "metadata": {
        "id": "IbQRs5PUJNbf"
      },
      "source": [
        "%%R\n",
        "write.csv(sleuth_significant_EN_wt1,'Significant_gene_sleuth_wt_qvalue_removing1sample.csv')"
      ],
      "execution_count": null,
      "outputs": []
    },
    {
      "cell_type": "code",
      "metadata": {
        "colab": {
          "base_uri": "https://localhost:8080/"
        },
        "id": "ZE2dLoPU3QN8",
        "outputId": "39c5db60-f3ea-4bb7-a78c-9506f3282cf7"
      },
      "source": [
        "%%R\n",
        "dim(sleuth_significant_EN_wt1)"
      ],
      "execution_count": null,
      "outputs": [
        {
          "output_type": "stream",
          "text": [
            "[1] 338  11\n"
          ],
          "name": "stdout"
        }
      ]
    },
    {
      "cell_type": "code",
      "metadata": {
        "colab": {
          "base_uri": "https://localhost:8080/",
          "height": 497
        },
        "id": "upTfJssd3QSr",
        "outputId": "d7237e2d-9271-4145-b184-02c24e9263fd"
      },
      "source": [
        "%%R\n",
        "\n",
        "plot_bootstrap(so_GS1, \"Rv3561\", units = \"est_counts\", color_by = \"group\")\n"
      ],
      "execution_count": null,
      "outputs": [
        {
          "output_type": "display_data",
          "data": {
            "image/png": "[encoded data removed]"
          },
          "metadata": {
            "tags": []
          }
        }
      ]
    },
    {
      "cell_type": "code",
      "metadata": {
        "id": "6qK4Y8tP3QZw"
      },
      "source": [
        "%%R\n",
        "sleuth_matrix <- sleuth_to_matrix(so_GS1, 'obs_norm', 'tpm')"
      ],
      "execution_count": null,
      "outputs": []
    },
    {
      "cell_type": "code",
      "metadata": {
        "id": "VEuEz_3j3QeO"
      },
      "source": [
        "%%R\n",
        "write.csv(sleuth_matrix,\"norm_tpm.csv\")"
      ],
      "execution_count": null,
      "outputs": []
    },
    {
      "cell_type": "code",
      "metadata": {
        "id": "A03IHr0AvMTV"
      },
      "source": [
        "%%R\n",
        "select_var<- sleuth_significant_GS_lrt1[!duplicated(sleuth_significant_GS_lrt1$target_id), ]\n",
        "select_var<-select_var$target_id"
      ],
      "execution_count": null,
      "outputs": []
    },
    {
      "cell_type": "code",
      "metadata": {
        "colab": {
          "base_uri": "https://localhost:8080/"
        },
        "id": "e3j2w5VDvXb1",
        "outputId": "88f427a0-8d80-4633-960f-b16414d31b2d"
      },
      "source": [
        "%%R\n",
        "select_var"
      ],
      "execution_count": null,
      "outputs": [
        {
          "output_type": "stream",
          "text": [
            "  [1] \"Rv3561\"    \"MTB000021\" \"Rv0088\"    \"Rv0188\"    \"Rv0393\"    \"Rv0747\"   \n",
            "  [7] \"Rv1686c\"   \"Rv1845c\"   \"Rv3559c\"   \"Rv3562\"    \"Rv0114\"    \"Rv0190\"   \n",
            " [13] \"Rv0229c\"   \"Rv0389\"    \"Rv0413\"    \"Rv0415\"    \"Rv0450c\"   \"Rv0478\"   \n",
            " [19] \"Rv0572c\"   \"Rv0741\"    \"Rv0869c\"   \"Rv0877\"    \"Rv0988\"    \"Rv1005c\"  \n",
            " [25] \"Rv1080c\"   \"Rv1091\"    \"Rv1185c\"   \"Rv1238\"    \"Rv1448c\"   \"Rv1501\"   \n",
            " [31] \"Rv1687c\"   \"Rv1739c\"   \"Rv1876\"    \"Rv1883c\"   \"Rv1884c\"   \"Rv1953\"   \n",
            " [37] \"Rv2153c\"   \"Rv2158c\"   \"Rv2161c\"   \"Rv2243\"    \"Rv2347c\"   \"Rv2349c\"  \n",
            " [43] \"Rv2677c\"   \"Rv2743c\"   \"Rv2818c\"   \"Rv2819c\"   \"Rv2937\"    \"Rv2945c\"  \n",
            " [49] \"Rv3109\"    \"Rv3136\"    \"Rv3190A\"   \"Rv3281\"    \"Rv3354\"    \"Rv3450c\"  \n",
            " [55] \"Rv3548c\"   \"Rv3549c\"   \"Rv3556c\"   \"Rv3824c\"   \"Rv0590\"    \"Rv3425\"   \n",
            " [61] \"Rv1333\"    \"Rv0568\"    \"Rv0061c\"   \"Rv2802c\"   \"Rv2389c\"   \"Rv0011c\"  \n",
            " [67] \"Rv0156\"    \"Rv0192\"    \"Rv0637\"    \"Rv1505c\"   \"Rv1835c\"   \"Rv1950c\"  \n",
            " [73] \"Rv2614A\"   \"Rv1004c\"   \"Rv0169\"    \"Rv2250c\"   \"Rv2729c\"   \"Rv3135\"   \n",
            " [79] \"Rv3372\"    \"Rv2166c\"   \"Rv0034\"    \"Rv1197\"    \"Rv1409\"    \"Rv2217\"   \n",
            " [85] \"Rv2618\"    \"Rv3461c\"   \"Rv3648c\"   \"Rv3563\"    \"Rv3763\"    \"Rv2828c\"  \n",
            " [91] \"MTB000129\" \"Rv0039c\"   \"Rv2139\"    \"Rv3550\"    \"Rv2747\"    \"Rv3260c\"  \n",
            " [97] \"Rv1258c\"   \"Rv3433c\"   \"Rv0010c\"   \"Rv0495c\"   \"Rv0538\"    \"Rv1391\"   \n",
            "[103] \"Rv1535\"    \"Rv2507\"    \"Rv2939\"    \"Rv2986c\"   \"Rv3084\"    \"Rv3236c\"  \n",
            "[109] \"Rv3341\"    \"Rv3874\"    \"Rv2951c\"   \"Rv0987\"    \"Rv2731\"    \"Rv3013\"   \n",
            "[115] \"Rv1778c\"   \"Rv1825\"    \"Rv1980c\"   \"Rv2857c\"   \"Rv1738\"    \"Rv2559c\"  \n",
            "[121] \"Rv3462c\"   \"Rv3875\"    \"Rv0276\"    \"Rv3725\"    \"Rv3924c\"   \"Rv0187\"   \n",
            "[127] \"Rv2522c\"   \"Rv0553\"    \"Rv0937c\"   \"Rv0106\"    \"Rv2031c\"   \"Rv3246c\"  \n",
            "[133] \"Rv3796\"    \"Rv0406c\"   \"Rv3426\"    \"Rv0201c\"   \"MTB000127\" \"Rv1402\"   \n",
            "[139] \"Rv2207\"    \"Rv2620c\"   \"Rv3766\"    \"Rv0336\"    \"Rv0437c\"   \"Rv0724\"   \n",
            "[145] \"Rv1399c\"   \"Rv3659c\"   \"Rv3342\"    \"Rv2726c\"   \"Rv1084\"    \"Rv2734\"   \n",
            "[151] \"Rv0728c\"  \n"
          ],
          "name": "stdout"
        }
      ]
    },
    {
      "cell_type": "code",
      "metadata": {
        "id": "KiUqLcvkvMXs"
      },
      "source": [
        "%%R\n",
        "sleuth_matrix <- sleuth_to_matrix(so_GS1, 'obs_norm', 'tpm')\n",
        "LogData <- log2(sleuth_matrix+1)"
      ],
      "execution_count": null,
      "outputs": []
    },
    {
      "cell_type": "code",
      "metadata": {
        "colab": {
          "base_uri": "https://localhost:8080/"
        },
        "id": "ZD42CM0pvMbX",
        "outputId": "dbfe94d1-d152-437e-8bd6-874656900613"
      },
      "source": [
        "%%R\n",
        "highly_variable <- LogData[select_var,]\n",
        "dim(highly_variable)"
      ],
      "execution_count": null,
      "outputs": [
        {
          "output_type": "stream",
          "text": [
            "[1] 151  10\n"
          ],
          "name": "stdout"
        }
      ]
    },
    {
      "cell_type": "code",
      "metadata": {
        "id": "P2Iv7WpdvMeq"
      },
      "source": [
        "%%R\n",
        "#begin by clustering the genes (rows) in each set of differentially expressed genes\n",
        "hr <- hclust(as.dist(1-cor(t(highly_variable), method=\"pearson\")), method=\"ward.D2\") #cluster rows by\n",
        "\n",
        "#now cluster your samples (columns)\n",
        "hc <- hclust(as.dist(1-cor(highly_variable, method=\"pearson\")), method=\"ward.D2\")\n",
        "\n",
        "#the agglomeration method to be used. This should be (an unambiguous abbreviation of)one of\n",
        "#  \"ward.D\", \"ward.D2\", \"single\", \"complete\", \"average\" (= UPGMA), \"mcquitty\" (= WPGMA), \"median\" (= WPGMC) or \"centroid\" (= UPGMC).\n",
        "\n",
        "mycl <- cutree(hr, k=2)\n",
        "#now assign a color to each cluster (makes it easy to identify and manipulate)\n",
        "mycolhc <- rainbow(length(unique(mycl)), start=0.1, end=0.9) \n",
        "mycolhc <- mycolhc[as.vector(mycl)] "
      ],
      "execution_count": null,
      "outputs": []
    },
    {
      "cell_type": "code",
      "metadata": {
        "id": "D85BS5byvdo4"
      },
      "source": [
        "%%R\n",
        "library('RColorBrewer')\n",
        "mypalette <- brewer.pal(10,\"RdYlBu\")\n",
        "morecols <- colorRampPalette(mypalette)\n",
        "Colors<-brewer.pal(3,\"Set2\")"
      ],
      "execution_count": null,
      "outputs": []
    },
    {
      "cell_type": "code",
      "metadata": {
        "colab": {
          "base_uri": "https://localhost:8080/"
        },
        "id": "CY6HNiS5x21Q",
        "outputId": "efa00531-a0f5-44ce-cf8f-829372b7802e"
      },
      "source": [
        "%%R\n",
        "metadata"
      ],
      "execution_count": null,
      "outputs": [
        {
          "output_type": "stream",
          "text": [
            "                  Sample  sample   group batch\n",
            "1  WTCHG_845237_70015073 IFN18B4    infg  EXP4\n",
            "2  WTCHG_845237_70865062   C18A1 control  EXP1\n",
            "3  WTCHG_845237_70875063 IFN18A1    infg  EXP1\n",
            "4  WTCHG_845237_70885064   C18A2 control  EXP2\n",
            "5  WTCHG_845237_70895065   C18B2 control  EXP2\n",
            "6  WTCHG_845237_70905066 IFN18A2    infg  EXP2\n",
            "7  WTCHG_845237_70915067 IFN18B2    infg  EXP2\n",
            "8  WTCHG_845237_70935069   C18B3 control  EXP3\n",
            "9  WTCHG_845237_70955071 IFN18B3    infg  EXP3\n",
            "10 WTCHG_845237_70965072   C18B4 control  EXP4\n",
            "                                                             path\n",
            "1  /home/jupyter/bucket/Mo/Kallisto_results3/IFN18B4/abundance.h5\n",
            "2    /home/jupyter/bucket/Mo/Kallisto_results3/C18A1/abundance.h5\n",
            "3  /home/jupyter/bucket/Mo/Kallisto_results3/IFN18A1/abundance.h5\n",
            "4    /home/jupyter/bucket/Mo/Kallisto_results3/C18A2/abundance.h5\n",
            "5    /home/jupyter/bucket/Mo/Kallisto_results3/C18B2/abundance.h5\n",
            "6  /home/jupyter/bucket/Mo/Kallisto_results3/IFN18A2/abundance.h5\n",
            "7  /home/jupyter/bucket/Mo/Kallisto_results3/IFN18B2/abundance.h5\n",
            "8    /home/jupyter/bucket/Mo/Kallisto_results3/C18B3/abundance.h5\n",
            "9  /home/jupyter/bucket/Mo/Kallisto_results3/IFN18B3/abundance.h5\n",
            "10   /home/jupyter/bucket/Mo/Kallisto_results3/C18B4/abundance.h5\n"
          ],
          "name": "stdout"
        }
      ]
    },
    {
      "cell_type": "code",
      "metadata": {
        "colab": {
          "base_uri": "https://localhost:8080/"
        },
        "id": "xD9xvSTY0pPx",
        "outputId": "c83f82a5-5c79-417e-96c7-b3bfec9f0225"
      },
      "source": [
        "%%R\n",
        "colnames(highly_variable)"
      ],
      "execution_count": null,
      "outputs": [
        {
          "output_type": "stream",
          "text": [
            " [1] \"C18A1\"   \"C18A2\"   \"C18B2\"   \"C18B3\"   \"C18B4\"   \"IFN18A1\" \"IFN18A2\"\n",
            " [8] \"IFN18B2\" \"IFN18B3\" \"IFN18B4\"\n"
          ],
          "name": "stdout"
        }
      ]
    },
    {
      "cell_type": "code",
      "metadata": {
        "id": "61j8dBzJ1HzX"
      },
      "source": [
        "%%R\n",
        "highly_variable <- highly_variable[,metadata$sample]"
      ],
      "execution_count": null,
      "outputs": []
    },
    {
      "cell_type": "code",
      "metadata": {
        "colab": {
          "base_uri": "https://localhost:8080/"
        },
        "id": "ifv1H_u4CwzG",
        "outputId": "522f26c3-b34c-4598-e5ee-5f8340747fb8"
      },
      "source": [
        "%%R\n",
        "colnames(highly_variable)"
      ],
      "execution_count": null,
      "outputs": [
        {
          "output_type": "stream",
          "text": [
            " [1] \"IFN18B4\" \"C18A1\"   \"IFN18A1\" \"C18A2\"   \"C18B2\"   \"IFN18A2\" \"IFN18B2\"\n",
            " [8] \"C18B3\"   \"IFN18B3\" \"C18B4\"  \n"
          ],
          "name": "stdout"
        }
      ]
    },
    {
      "cell_type": "code",
      "metadata": {
        "colab": {
          "base_uri": "https://localhost:8080/"
        },
        "id": "a2-sfTRX1ABk",
        "outputId": "0c19a69a-129c-4129-9bea-1f1c72beaf5f"
      },
      "source": [
        "%%R\n",
        "metadata$sample"
      ],
      "execution_count": null,
      "outputs": [
        {
          "output_type": "stream",
          "text": [
            " [1] \"IFN18B4\" \"C18A1\"   \"IFN18A1\" \"C18A2\"   \"C18B2\"   \"IFN18A2\" \"IFN18B2\"\n",
            " [8] \"C18B3\"   \"IFN18B3\" \"C18B4\"  \n"
          ],
          "name": "stdout"
        }
      ]
    },
    {
      "cell_type": "code",
      "metadata": {
        "colab": {
          "base_uri": "https://localhost:8080/"
        },
        "id": "jsfWcgD0vc33",
        "outputId": "f50645e5-3a7b-4b09-9d95-5806389f7772"
      },
      "source": [
        "%%R\n",
        "group <- factor(metadata$group)\n",
        "\n",
        "#group <- factor(metadata1$group)\n",
        "#infection <- factor(metadata1$case_control)\n",
        "print(group)\n",
        "#treatment<- factor(metadata1$treatment)\n",
        "#print(treatment)\n",
        "\n",
        "\n",
        "col.cell <- brewer.pal(9,\"Set1\")[group]\n",
        "col.cell"
      ],
      "execution_count": null,
      "outputs": [
        {
          "output_type": "stream",
          "text": [
            " [1] infg    control infg    control control infg    infg    control infg   \n",
            "[10] control\n",
            "Levels: control infg\n",
            " [1] \"#377EB8\" \"#E41A1C\" \"#377EB8\" \"#E41A1C\" \"#E41A1C\" \"#377EB8\" \"#377EB8\"\n",
            " [8] \"#E41A1C\" \"#377EB8\" \"#E41A1C\"\n"
          ],
          "name": "stdout"
        }
      ]
    },
    {
      "cell_type": "code",
      "metadata": {
        "colab": {
          "base_uri": "https://localhost:8080/",
          "height": 497
        },
        "id": "PzVuc1Zmvc7p",
        "outputId": "97c028a0-8021-4b28-aba0-0e52ba76fde1"
      },
      "source": [
        "%%R\n",
        "out<-heatmap.2(highly_variable,col=rev(morecols(200)),trace=\"none\", main=\"Top most variable genes across samples\",\n",
        "          ColSideColors=col.cell,scale=\"row\",hclustfun = hclust,RowSideColors=mycolhc,Rowv=as.dendrogram(hr),Colv=as.dendrogram(hc),cexRow = 0.5)"
      ],
      "execution_count": null,
      "outputs": [
        {
          "output_type": "display_data",
          "data": {
            "image/png": "[encoded data removed]"
          },
          "metadata": {
            "tags": []
          }
        }
      ]
    },
    {
      "cell_type": "code",
      "metadata": {
        "colab": {
          "base_uri": "https://localhost:8080/"
        },
        "id": "2KNIh3Xgvc-0",
        "outputId": "2d645669-d8d5-4ee9-f92e-38c4759804f4"
      },
      "source": [
        "%%R\n",
        "pdf(\"Bach.pdf\")\n",
        "out<-heatmap.2(highly_variable,col=rev(morecols(200)),trace=\"none\", main=\"Top most variable genes across samples\",\n",
        "          ColSideColors=col.cell,scale=\"row\",hclustfun = hclust,RowSideColors=mycolhc,Rowv=as.dendrogram(hr),Colv=as.dendrogram(hc),cexRow = 0.5)\n",
        "dev.off()"
      ],
      "execution_count": null,
      "outputs": [
        {
          "output_type": "stream",
          "text": [
            "png \n",
            "  2 \n"
          ],
          "name": "stdout"
        }
      ]
    },
    {
      "cell_type": "code",
      "metadata": {
        "colab": {
          "base_uri": "https://localhost:8080/"
        },
        "id": "7bDP2hJPFIId",
        "outputId": "3384e76c-febb-4acb-b946-17781c7a7c28"
      },
      "source": [
        "%%R\n",
        "logcounts1 <- cpm(dge,log=TRUE)\n",
        "boxplot(logcounts1, xlab=\"\", ylab=\"Log2 counts per million\",las=2,col=col.cell)\n",
        "abline(h=median(logcounts1),col=\"blue\")\n",
        "title(\"Boxplots of logCPMs (unnormalized)\")"
      ],
      "execution_count": null,
      "outputs": [
        {
          "output_type": "stream",
          "text": [
            "R[write to console]: Error in cpm(dge, log = TRUE) : could not find function \"cpm\"\n",
            "\n",
            "R[write to console]: In addition: \n",
            "R[write to console]: Warning messages:\n",
            "\n",
            "R[write to console]: 1: \n",
            "R[write to console]: In (function (package, help, pos = 2, lib.loc = NULL, character.only = FALSE,  :\n",
            "R[write to console]: \n",
            " \n",
            "R[write to console]:  library ‘/usr/lib/R/site-library’ contains no packages\n",
            "\n",
            "R[write to console]: 2: `select_()` was deprecated in dplyr 0.7.0.\n",
            "Please use `select()` instead.\n",
            "\u001b[90mThis warning is displayed once every 8 hours.\u001b[39m\n",
            "\u001b[90mCall `lifecycle::last_warnings()` to see where this warning was generated.\u001b[39m \n",
            "\n"
          ],
          "name": "stderr"
        },
        {
          "output_type": "stream",
          "text": [
            "\n",
            "Error in cpm(dge, log = TRUE) : could not find function \"cpm\"\n"
          ],
          "name": "stdout"
        }
      ]
    },
    {
      "cell_type": "code",
      "metadata": {
        "colab": {
          "base_uri": "https://localhost:8080/"
        },
        "id": "0o_GBT1rFErQ",
        "outputId": "1f570125-098a-44a0-bdd2-af167cd1213d"
      },
      "source": [
        "%%R\n",
        "logcounts1 <- cpm(dge_norm_filt,log=TRUE)\n",
        "boxplot(logcounts1, xlab=\"\", ylab=\"Log2 counts per million\",las=2,col=col.cell)\n",
        "abline(h=median(logcounts1),col=\"blue\")\n",
        "title(\"Boxplots of logCPMs (normalized)\")"
      ],
      "execution_count": null,
      "outputs": [
        {
          "output_type": "stream",
          "text": [
            "R[write to console]: Error in cpm(dge_norm_filt, log = TRUE) : could not find function \"cpm\"\n",
            "\n"
          ],
          "name": "stderr"
        },
        {
          "output_type": "stream",
          "text": [
            "\n",
            "Error in cpm(dge_norm_filt, log = TRUE) : could not find function \"cpm\"\n"
          ],
          "name": "stdout"
        }
      ]
    },
    {
      "cell_type": "code",
      "metadata": {
        "colab": {
          "base_uri": "https://localhost:8080/",
          "height": 497
        },
        "id": "5oynA1YkFN1E",
        "outputId": "fcc26b70-ef43-412f-87cf-2feedfdc87db"
      },
      "source": [
        "%%R\n",
        "#  Make IQR_Median Plots\n",
        "counts_filtered <- dge_norm_filt$counts\n",
        "log_counts<-log(counts_filtered+1)\n",
        "CPM<-cpm(dge_norm_filt)\n",
        "\n",
        "IQR<-apply(CPM, 2, IQR)\n",
        "Median<-apply(CPM, 2, median)\n",
        "diff1<-mean(Median)-min(Median)\n",
        "diff2<-max(Median)-mean(Median)\n",
        "diff3<-mean(IQR)-min(IQR)\n",
        "diff4<-max(IQR)-mean(IQR)\n",
        "\n",
        "#  These plot settings work for this data and may need to be adjusted for your own data.  \n",
        "Xlim=c(mean(Median)-2*diff1,mean(Median)+2*diff2)\n",
        "Ylim=c(mean(IQR)-2*diff3,mean(IQR)+2*diff4)\n",
        "\n",
        "\n",
        "plot(Median, IQR, main=\"IQR vs. Median TMM normaliztion\", type=\"n\", xlim=Xlim,ylim=Ylim)\n",
        "text(Median, IQR, labels=names(IQR))\n",
        "\n",
        "#  Make boxes for StDev.\n",
        "Median_mean<-mean(Median)  \n",
        "c_sd1_mean<-sd(Median)\n",
        "c_sd2_mean<-2*sd(Median)\n",
        "c_sd3_mean<-3*sd(Median)\n",
        "IQR_mean<-mean(IQR)\n",
        "c_sd1_IQR<-sd(IQR)\n",
        "c_sd2_IQR<-2*sd(IQR)\n",
        "c_sd3_IQR<-3*sd(IQR)\n",
        "\n",
        "x0_c<-Median_mean-c_sd1_mean\n",
        "y0_c<-IQR_mean-c_sd1_IQR\n",
        "x1_c<-Median_mean+c_sd1_mean\n",
        "y1_c<-IQR_mean+c_sd1_IQR\n",
        "\n",
        "x0_c.2<-Median_mean-c_sd2_mean\n",
        "y0_c.2<-IQR_mean-c_sd2_IQR\n",
        "x1_c.2<-Median_mean+c_sd2_mean\n",
        "y1_c.2<-IQR_mean+c_sd2_IQR\n",
        "\n",
        "x0_c.3<-Median_mean-c_sd3_mean\n",
        "y0_c.3<-IQR_mean-c_sd3_IQR\n",
        "x1_c.3<-Median_mean+c_sd3_mean\n",
        "y1_c.3<-IQR_mean+c_sd3_IQR\n",
        "\n",
        "segments(x0_c,y0_c, x1=x1_c, y1=y0_c, col=\"blue\")\n",
        "segments(x0_c,y0_c, x1=x0_c, y1=y1_c, col=\"blue\")\n",
        "segments(x1_c,y0_c, x1=x1_c, y1=y1_c, col=\"blue\")\n",
        "segments(x0_c,y1_c, x1=x1_c, y1=y1_c, col=\"blue\")\n",
        "\n",
        "segments(x0_c.2,y0_c.2, x1=x1_c.2, y1=y0_c.2, col=\"red\")\n",
        "segments(x0_c.2,y0_c.2, x1=x0_c.2, y1=y1_c.2, col=\"red\")\n",
        "segments(x1_c.2,y0_c.2, x1=x1_c.2, y1=y1_c.2, col=\"red\")\n",
        "segments(x0_c.2,y1_c.2, x1=x1_c.2, y1=y1_c.2, col=\"red\")\n",
        "\n",
        "#  This portion is out of range so I removed it.  \n",
        "segments(x0_c.3,y0_c.3, x1=x1_c.3, y1=y0_c.3, col=\"green\")\n",
        "segments(x0_c.3,y0_c.3, x1=x0_c.3, y1=y1_c.3, col=\"green\")\n",
        "segments(x1_c.3,y0_c.3, x1=x1_c.3, y1=y1_c.3, col=\"green\")\n",
        "segments(x0_c.3,y1_c.3, x1=x1_c.3, y1=y1_c.3, col=\"green\")\n"
      ],
      "execution_count": null,
      "outputs": [
        {
          "output_type": "display_data",
          "data": {
            "image/png": "[encoded data removed]"
          },
          "metadata": {
            "tags": []
          }
        }
      ]
    },
    {
      "cell_type": "markdown",
      "metadata": {
        "id": "h9X1QUb831aB"
      },
      "source": [
        "# Batch correction"
      ]
    },
    {
      "cell_type": "code",
      "metadata": {
        "id": "8I3BALOCvdCD"
      },
      "source": [
        "%%R\n",
        "sleuth_matrix <- sleuth_to_matrix(so_GS1, 'obs_raw', 'est_counts')"
      ],
      "execution_count": null,
      "outputs": []
    },
    {
      "cell_type": "code",
      "metadata": {
        "id": "yn3e9c_l35Zy"
      },
      "source": [
        "%%R\n",
        "sleuth_matrix <- sleuth_matrix[,metadata$sample]"
      ],
      "execution_count": null,
      "outputs": []
    },
    {
      "cell_type": "code",
      "metadata": {
        "colab": {
          "base_uri": "https://localhost:8080/"
        },
        "id": "syy_EE9s3sGJ",
        "outputId": "f3e04247-34a4-4872-ce54-4119cde51d24"
      },
      "source": [
        "%%R\n",
        "colnames(sleuth_matrix)"
      ],
      "execution_count": null,
      "outputs": [
        {
          "output_type": "stream",
          "text": [
            " [1] \"IFN18B4\" \"C18A1\"   \"IFN18A1\" \"C18A2\"   \"C18B2\"   \"IFN18A2\" \"IFN18B2\"\n",
            " [8] \"C18B3\"   \"IFN18B3\" \"C18B4\"  \n"
          ],
          "name": "stdout"
        }
      ]
    },
    {
      "cell_type": "code",
      "metadata": {
        "colab": {
          "base_uri": "https://localhost:8080/"
        },
        "id": "fjrMH5Jf4OnF",
        "outputId": "c98cc8d0-d5fd-4dfb-bfdd-6d3e5b93f0ae"
      },
      "source": [
        "%%R\n",
        "group <- factor(metadata$group)\n",
        "design <- model.matrix(~0+group)\n",
        "print(design)\n",
        "colnames(design)"
      ],
      "execution_count": null,
      "outputs": [
        {
          "output_type": "stream",
          "text": [
            "   groupcontrol groupinfg\n",
            "1             0         1\n",
            "2             1         0\n",
            "3             0         1\n",
            "4             1         0\n",
            "5             1         0\n",
            "6             0         1\n",
            "7             0         1\n",
            "8             1         0\n",
            "9             0         1\n",
            "10            1         0\n",
            "attr(,\"assign\")\n",
            "[1] 1 1\n",
            "attr(,\"contrasts\")\n",
            "attr(,\"contrasts\")$group\n",
            "[1] \"contr.treatment\"\n",
            "\n",
            "[1] \"groupcontrol\" \"groupinfg\"   \n"
          ],
          "name": "stdout"
        }
      ]
    },
    {
      "cell_type": "code",
      "metadata": {
        "colab": {
          "base_uri": "https://localhost:8080/",
          "height": 54
        },
        "id": "4dc666Yv4Oyn",
        "outputId": "e42db1da-a45e-4eea-daa0-a594ad9b0c37"
      },
      "source": [
        "%R require(limma)\n",
        "%R require(edgeR)"
      ],
      "execution_count": null,
      "outputs": [
        {
          "output_type": "execute_result",
          "data": {
            "text/plain": [
              "<rpy2.robjects.vectors.BoolVector object at 0x7fd1d47d8aa0> [RTYPES.LGLSXP]\n",
              "R classes: ('logical',)\n",
              "[       1]"
            ],
            "text/html": [
              "\n",
              "        <span>BoolVector with 1 elements.</span>\n",
              "        <table>\n",
              "        <tbody>\n",
              "          <tr>\n",
              "          \n",
              "            <td>\n",
              "                   1\n",
              "            </td>\n",
              "          \n",
              "          </tr>\n",
              "        </tbody>\n",
              "        </table>\n",
              "        "
            ]
          },
          "metadata": {
            "tags": []
          },
          "execution_count": 164
        }
      ]
    },
    {
      "cell_type": "code",
      "metadata": {
        "colab": {
          "base_uri": "https://localhost:8080/",
          "height": 497
        },
        "id": "jdl3GrgF8NTd",
        "outputId": "577c5ef8-6c4e-4ed3-b393-18709ce3c347"
      },
      "source": [
        "%%R\n",
        "dge <- DGEList(counts= sleuth_matrix,genes=row.names(sleuth_matrix))\n",
        "dge_norm <- calcNormFactors(dge,lib.size=T,method=\"TMM\")\n",
        "cpm.count <- cpm(dge_norm)\n",
        "keep = rowSums(cpm.count > as.numeric(1) ) >= as.numeric(1)\n",
        "dge_norm_filt <- dge_norm[keep,,keep.lib.sizes=FALSE]\n",
        "\n",
        "#print(dim(dge_norm))\n",
        "v <-  voom(dge_norm_filt, design=design, plot=TRUE)\n",
        "\n",
        "#voom_dataframe <- as.data.frame(v)"
      ],
      "execution_count": null,
      "outputs": [
        {
          "output_type": "display_data",
          "data": {
            "image/png": "[encoded data removed]"
          },
          "metadata": {
            "tags": []
          }
        }
      ]
    },
    {
      "cell_type": "code",
      "metadata": {
        "colab": {
          "base_uri": "https://localhost:8080/"
        },
        "id": "AAMCVvk78c1u",
        "outputId": "51107ebd-492b-4e0a-d007-439317da2d44"
      },
      "source": [
        "%%R\n",
        "dim(v)"
      ],
      "execution_count": null,
      "outputs": [
        {
          "output_type": "stream",
          "text": [
            "[1] 4072   10\n"
          ],
          "name": "stdout"
        }
      ]
    },
    {
      "cell_type": "code",
      "metadata": {
        "colab": {
          "base_uri": "https://localhost:8080/"
        },
        "id": "cC69QFKq1-KC",
        "outputId": "18c27dd3-9a95-47e2-a0e5-fc08fc696c94"
      },
      "source": [
        "%%R -o logCPM_no_batch\n",
        "CPM <- cpm(dge_norm_filt)\n",
        "logCPM <- log2(CPM+1)\n",
        "batch <- metadata$batch\n",
        "print(batch)\n",
        "design\n",
        "# Remove batch effect. \n",
        "logCPM_no_batch <- removeBatchEffect(logCPM, batch=batch, design=design)\n",
        "dim(logCPM_no_batch)"
      ],
      "execution_count": null,
      "outputs": [
        {
          "output_type": "stream",
          "text": [
            " [1] \"EXP4\" \"EXP1\" \"EXP1\" \"EXP2\" \"EXP2\" \"EXP2\" \"EXP2\" \"EXP3\" \"EXP3\" \"EXP4\"\n",
            "[1] 4072   10\n"
          ],
          "name": "stdout"
        }
      ]
    },
    {
      "cell_type": "code",
      "metadata": {
        "colab": {
          "base_uri": "https://localhost:8080/"
        },
        "id": "_WH7YXfz67a2",
        "outputId": "e150f5d9-78fc-4248-89f6-7c0ed4917bbf"
      },
      "source": [
        "%%R\n",
        "logCPM_no_batch[1:5,1:5]"
      ],
      "execution_count": null,
      "outputs": [
        {
          "output_type": "stream",
          "text": [
            "           IFN18B4    C18A1  IFN18A1    C18A2    C18B2\n",
            "MTB000001 1.976315 2.159187 1.805325 1.865203 2.067794\n",
            "MTB000002 2.908109 2.843464 2.917263 2.985750 2.857732\n",
            "MTB000003 3.596350 3.549892 3.580438 3.766236 3.529947\n",
            "MTB000004 1.969732 1.785875 1.971085 1.939099 1.874109\n",
            "MTB000006 2.452270 2.277625 2.441316 2.313987 2.395873\n"
          ],
          "name": "stdout"
        }
      ]
    },
    {
      "cell_type": "code",
      "metadata": {
        "id": "ezNNYlla7Gim"
      },
      "source": [
        "%%R\n",
        "data<- 2^logCPM_no_batch"
      ],
      "execution_count": null,
      "outputs": []
    },
    {
      "cell_type": "code",
      "metadata": {
        "colab": {
          "base_uri": "https://localhost:8080/"
        },
        "id": "Ma09OV_17wJ9",
        "outputId": "e490e2dc-b433-489b-8dee-0090ddbf1c0d"
      },
      "source": [
        "%%R\n",
        "data[1:5,1:5]"
      ],
      "execution_count": null,
      "outputs": [
        {
          "output_type": "stream",
          "text": [
            "            IFN18B4     C18A1   IFN18A1     C18A2     C18B2\n",
            "MTB000001  3.934869  4.466631  3.495078  3.643191  4.192450\n",
            "MTB000002  7.506335  7.177413  7.554115  7.921371  7.248747\n",
            "MTB000003 12.095092 11.711812 11.962427 13.606611 11.551010\n",
            "MTB000004  3.916954  3.448275  3.920629  3.834661  3.665751\n",
            "MTB000006  5.472767  4.848789  5.431371  4.972554  5.262956\n"
          ],
          "name": "stdout"
        }
      ]
    },
    {
      "cell_type": "code",
      "metadata": {
        "colab": {
          "base_uri": "https://localhost:8080/"
        },
        "id": "X8QrTLN31-OG",
        "outputId": "b5aa978a-7d95-47a3-e7fe-9fa700ef20ba"
      },
      "source": [
        "%%R\n",
        "\n",
        "cpm<-logCPM_no_batch\n",
        "\n",
        "Y <- apply(cpm, 1, function(y) scale(y, center=TRUE, scale=FALSE))\n",
        "s <- svd(Y)\n",
        "#  Get Variance explained by the components\n",
        "Var1<-s$d^2/sum(s$d^2)\n",
        "Var2<-cumsum(s$d^2/sum(s$d^2))\n",
        "Var<-cbind(Var1,Var2)\n",
        "Var<-round(Var,3)\n",
        "colnames(Var)<-c(\"Percent Variance\",\"Cumulative % Variance\")\n",
        "head(Var)"
      ],
      "execution_count": null,
      "outputs": [
        {
          "output_type": "stream",
          "text": [
            "     Percent Variance Cumulative % Variance\n",
            "[1,]            0.357                 0.357\n",
            "[2,]            0.278                 0.635\n",
            "[3,]            0.141                 0.776\n",
            "[4,]            0.104                 0.879\n",
            "[5,]            0.066                 0.946\n",
            "[6,]            0.054                 1.000\n"
          ],
          "name": "stdout"
        }
      ]
    },
    {
      "cell_type": "code",
      "metadata": {
        "colab": {
          "base_uri": "https://localhost:8080/"
        },
        "id": "DUqB3Ij85kXU",
        "outputId": "482db035-b75e-44b2-a076-8e60868053ea"
      },
      "source": [
        "%%R\n",
        "group <- factor(metadata$group)\n",
        "\n",
        "#group <- factor(metadata1$group)\n",
        "#infection <- factor(metadata1$case_control)\n",
        "print(group)\n",
        "#treatment<- factor(metadata1$treatment)\n",
        "#print(treatment)\n",
        "\n",
        "\n",
        "col.cell <- brewer.pal(9,\"Set1\")[group]\n",
        "col.cell"
      ],
      "execution_count": null,
      "outputs": [
        {
          "output_type": "stream",
          "text": [
            " [1] infg    control infg    control control infg    infg    control infg   \n",
            "[10] control\n",
            "Levels: control infg\n",
            " [1] \"#377EB8\" \"#E41A1C\" \"#377EB8\" \"#E41A1C\" \"#E41A1C\" \"#377EB8\" \"#377EB8\"\n",
            " [8] \"#E41A1C\" \"#377EB8\" \"#E41A1C\"\n"
          ],
          "name": "stdout"
        }
      ]
    },
    {
      "cell_type": "code",
      "metadata": {
        "colab": {
          "base_uri": "https://localhost:8080/",
          "height": 497
        },
        "id": "AZJH6bXrIcif",
        "outputId": "f40d857c-6faf-4036-9a87-550f1541f3bc"
      },
      "source": [
        "%%R\n",
        "plot(s$u[,1], s$u[,2], pch=19, cex=2, xlab=paste0(\"PC1, VarExp:\", round(Var[1],3)), ylab=paste0(\"PC2, VarExp:\", round(Var[2],3)),main=\"PCA plot TMM Normalization\",col=col.cell, ylim=c((min(s$u[,2])*1.2),(max(s$u[,2])*1.2)),xlim=c((min(s$u[,1])*1.2),(max(s$u[,1])*1.2)))\n",
        "text(s$u[,1], s$u[,2], labels=colnames(cpm),adj=c(0,2),cex=0.5)\n",
        "legend(\"bottomleft\",legend = unique(metadata$group),col = unique(col.cell), pch=19,cex=1)"
      ],
      "execution_count": null,
      "outputs": [
        {
          "output_type": "display_data",
          "data": {
            "image/png": "[encoded data removed]"
          },
          "metadata": {
            "tags": []
          }
        }
      ]
    },
    {
      "cell_type": "code",
      "metadata": {
        "colab": {
          "base_uri": "https://localhost:8080/"
        },
        "id": "DWw9b4Yo1-R1",
        "outputId": "db09fe43-983a-4003-81dc-c5fad89ea81c"
      },
      "source": [
        "%%R\n",
        "pdf(\"PCA_norm_batchcorrected_removing1sample.pdf\")\n",
        "plot(s$u[,1], s$u[,2], pch=19, cex=2, xlab=paste0(\"PC1, VarExp:\", round(Var[1],3)), ylab=paste0(\"PC2, VarExp:\", round(Var[2],3)),main=\"PCA plot TMM Normalization\",col=col.cell, ylim=c((min(s$u[,2])*1.2),(max(s$u[,2])*1.2)),xlim=c((min(s$u[,1])*1.2),(max(s$u[,1])*1.2)))\n",
        "text(s$u[,1], s$u[,2], labels=colnames(cpm),adj=c(0,2),cex=0.5)\n",
        "legend(\"bottomleft\",legend = unique(metadata$group),col = unique(col.cell), pch=19,cex=1)\n",
        "dev.off()  "
      ],
      "execution_count": null,
      "outputs": [
        {
          "output_type": "stream",
          "text": [
            "png \n",
            "  2 \n"
          ],
          "name": "stdout"
        }
      ]
    },
    {
      "cell_type": "code",
      "metadata": {
        "id": "W_EckM5e968W"
      },
      "source": [],
      "execution_count": null,
      "outputs": []
    },
    {
      "cell_type": "markdown",
      "metadata": {
        "id": "NtMn0qFb-6LR"
      },
      "source": [
        "#Limma"
      ]
    },
    {
      "cell_type": "code",
      "metadata": {
        "colab": {
          "base_uri": "https://localhost:8080/"
        },
        "id": "FEfI0FYc97IV",
        "outputId": "3ea5ae2e-cea6-4d2e-fff4-86e7c7a5c3bc"
      },
      "source": [
        "%%R\n",
        "group <- factor(metadata$group)\n",
        "batch <- factor(metadata$batch)\n",
        "design <- model.matrix(~batch+group)\n",
        "print(design)\n",
        "colnames(design)"
      ],
      "execution_count": null,
      "outputs": [
        {
          "output_type": "stream",
          "text": [
            "   (Intercept) batchEXP2 batchEXP3 batchEXP4 groupinfg\n",
            "1            1         0         0         1         1\n",
            "2            1         0         0         0         0\n",
            "3            1         0         0         0         1\n",
            "4            1         1         0         0         0\n",
            "5            1         1         0         0         0\n",
            "6            1         1         0         0         1\n",
            "7            1         1         0         0         1\n",
            "8            1         0         1         0         0\n",
            "9            1         0         1         0         1\n",
            "10           1         0         0         1         0\n",
            "attr(,\"assign\")\n",
            "[1] 0 1 1 1 2\n",
            "attr(,\"contrasts\")\n",
            "attr(,\"contrasts\")$batch\n",
            "[1] \"contr.treatment\"\n",
            "\n",
            "attr(,\"contrasts\")$group\n",
            "[1] \"contr.treatment\"\n",
            "\n",
            "[1] \"(Intercept)\" \"batchEXP2\"   \"batchEXP3\"   \"batchEXP4\"   \"groupinfg\"  \n"
          ],
          "name": "stdout"
        }
      ]
    },
    {
      "cell_type": "code",
      "metadata": {
        "colab": {
          "base_uri": "https://localhost:8080/"
        },
        "id": "pWjXTPbb97RC",
        "outputId": "7523c535-8fef-40bb-ac4e-7d839a21316b"
      },
      "source": [
        "%%R\n",
        "colnames(design)"
      ],
      "execution_count": null,
      "outputs": [
        {
          "output_type": "stream",
          "text": [
            "[1] \"(Intercept)\" \"batchEXP2\"   \"batchEXP3\"   \"batchEXP4\"   \"groupinfg\"  \n"
          ],
          "name": "stdout"
        }
      ]
    },
    {
      "cell_type": "code",
      "metadata": {
        "colab": {
          "base_uri": "https://localhost:8080/",
          "height": 497
        },
        "id": "IO3Oh_NX_OqK",
        "outputId": "40652381-ee48-42f5-f280-bc5b7a403765"
      },
      "source": [
        "%%R\n",
        "dge <- DGEList(counts= sleuth_matrix,genes=row.names(sleuth_matrix))\n",
        "dge_norm <- calcNormFactors(dge,lib.size=T,method=\"TMM\")\n",
        "cpm.count <- cpm(dge_norm)\n",
        "keep = rowSums(cpm.count > as.numeric(1) ) >= as.numeric(1)\n",
        "dge_norm_filt <- dge_norm[keep,,keep.lib.sizes=FALSE]\n",
        "\n",
        "#print(dim(dge_norm))\n",
        "v <-  voom(dge_norm_filt, design=design, plot=TRUE)\n",
        "\n",
        "#voom_dataframe <- as.data.frame(v)"
      ],
      "execution_count": null,
      "outputs": [
        {
          "output_type": "display_data",
          "data": {
            "image/png": "[encoded data removed]"
          },
          "metadata": {
            "tags": []
          }
        }
      ]
    },
    {
      "cell_type": "code",
      "metadata": {
        "colab": {
          "base_uri": "https://localhost:8080/"
        },
        "id": "txfUrNiv97YS",
        "outputId": "a7a4d412-af4e-4f70-8434-9dba2804913f"
      },
      "source": [
        "%%R\n",
        "fit <- lmFit(v, design)\n",
        "fit <- eBayes(fit)\n",
        "topTable(fit, coef=\"groupinfg\")"
      ],
      "execution_count": null,
      "outputs": [
        {
          "output_type": "stream",
          "text": [
            "              genes      logFC  AveExpr         t      P.Value adj.P.Val\n",
            "Rv3561       Rv3561 -0.2548745 5.083035 -6.172234 4.266803e-05 0.1737442\n",
            "MTB000021 MTB000021  0.2031469 7.129634  5.031467 2.709787e-04 0.2892276\n",
            "Rv0188       Rv0188  0.1858436 8.467538  4.897767 3.405432e-04 0.2892276\n",
            "Rv1686c     Rv1686c -0.3467938 4.068901 -5.471002 1.300893e-04 0.2648619\n",
            "Rv1687c     Rv1687c -0.3168463 4.604360 -4.873359 3.551420e-04 0.2892276\n",
            "Rv2620c     Rv2620c -0.3337410 5.129669 -4.412135 7.966081e-04 0.4911804\n",
            "Rv2347c     Rv2347c  0.1812558 6.892021  4.142652 1.292674e-03 0.4911804\n",
            "Rv2618       Rv2618 -0.2267894 5.307860 -4.159613 1.253579e-03 0.4911804\n",
            "Rv3562       Rv3562 -0.2097758 4.462048 -4.210343 1.143773e-03 0.4911804\n",
            "Rv1845c     Rv1845c -0.1414534 7.192577 -4.009064 1.648179e-03 0.4911804\n",
            "                    B\n",
            "Rv3561     1.51319427\n",
            "MTB000021  0.53090624\n",
            "Rv0188     0.33550455\n",
            "Rv1686c    0.31950544\n",
            "Rv1687c   -0.09183682\n",
            "Rv2620c   -0.54783702\n",
            "Rv2347c   -0.77032854\n",
            "Rv2618    -0.85909907\n",
            "Rv3562    -0.96110932\n",
            "Rv1845c   -0.97025001\n"
          ],
          "name": "stdout"
        }
      ]
    },
    {
      "cell_type": "code",
      "metadata": {
        "id": "_GXBFlAH97ds"
      },
      "source": [],
      "execution_count": null,
      "outputs": []
    },
    {
      "cell_type": "markdown",
      "metadata": {
        "id": "XuvdnEGDAMCf"
      },
      "source": [
        "#EDGER"
      ]
    },
    {
      "cell_type": "code",
      "metadata": {
        "colab": {
          "base_uri": "https://localhost:8080/"
        },
        "id": "BsKeqF7G97iT",
        "outputId": "b5523928-d08f-4129-8b3a-f495146161cc"
      },
      "source": [
        "%%R\n",
        "dge_norm <- estimateGLMCommonDisp(dge_norm, design, verbose=TRUE)\n",
        "dge_norm<- estimateGLMTrendedDisp(dge_norm, design)\n",
        "dge_norm<- estimateGLMTagwiseDisp(dge_norm, design)\n",
        "\n",
        "dge.fit <- glmFit(dge_norm, design)"
      ],
      "execution_count": null,
      "outputs": [
        {
          "output_type": "stream",
          "text": [
            "Disp = 0.00347 , BCV = 0.0589 \n"
          ],
          "name": "stdout"
        }
      ]
    },
    {
      "cell_type": "code",
      "metadata": {
        "colab": {
          "base_uri": "https://localhost:8080/"
        },
        "id": "ZilxXHacAxCt",
        "outputId": "a95aca8d-55be-470c-cf8e-29846c7dcfef"
      },
      "source": [
        "%%R\n",
        "dge_norm <- estimateCommonDisp(dge_norm, design, verbose=TRUE)\n",
        "\n",
        "dge.fit <- glmFit(dge_norm, design)"
      ],
      "execution_count": null,
      "outputs": [
        {
          "output_type": "stream",
          "text": [
            "Disp = 0.60835 , BCV = 0.78 \n"
          ],
          "name": "stdout"
        }
      ]
    },
    {
      "cell_type": "code",
      "metadata": {
        "id": "RR99mFxJAPFe"
      },
      "source": [
        "%%R\n",
        "dge.lrt <- glmLRT(dge.fit,coef=\"groupinfg\")"
      ],
      "execution_count": null,
      "outputs": []
    },
    {
      "cell_type": "code",
      "metadata": {
        "colab": {
          "base_uri": "https://localhost:8080/"
        },
        "id": "kPv8I5bGAPJ4",
        "outputId": "fdbd113b-d555-4799-8990-9b796da504d6"
      },
      "source": [
        "%%R\n",
        "print(topTags(dge.lrt))\n",
        "summary(decideTests(dge.lrt))"
      ],
      "execution_count": null,
      "outputs": [
        {
          "output_type": "stream",
          "text": [
            "Coefficient:  groupinfg \n",
            "              genes      logFC   logCPM       LR       PValue          FDR\n",
            "Rv3561       Rv3561 -0.2463541 5.224387 29.08184 6.938421e-08 0.0002905117\n",
            "Rv1686c     Rv1686c -0.3101670 4.340593 22.87770 1.726431e-06 0.0028003147\n",
            "MTB000021 MTB000021  0.2039587 7.156781 22.58887 2.006435e-06 0.0028003147\n",
            "Rv1687c     Rv1687c -0.2866109 4.927323 18.74394 1.494977e-05 0.0156486729\n",
            "Rv2620c     Rv2620c -0.3096978 5.484157 15.95457 6.488080e-05 0.0543311787\n",
            "Rv2347c     Rv2347c  0.1821112 6.940971 15.33315 9.012098e-05 0.0628894219\n",
            "Rv3559c     Rv3559c -0.2261529 3.789828 14.72789 1.241954e-04 0.0742866146\n",
            "Rv3562       Rv3562 -0.2002358 4.543133 13.98590 1.841872e-04 0.0914566943\n",
            "Rv2618       Rv2618 -0.2064478 5.443283 13.71596 2.126401e-04 0.0914566943\n",
            "Rv0393       Rv0393 -0.1755607 5.223238 13.56322 2.306615e-04 0.0914566943\n",
            "       groupinfg\n",
            "Down           3\n",
            "NotSig      4183\n",
            "Up             1\n"
          ],
          "name": "stdout"
        }
      ]
    },
    {
      "cell_type": "code",
      "metadata": {
        "id": "L32veUtzAPOf"
      },
      "source": [
        "%%R\n",
        "reads.cpm <- cpm(dge_norm)\n",
        "unfiltered.results <- data.frame(id=dge_norm$genes, reads.cpm, dge.lrt$table)"
      ],
      "execution_count": null,
      "outputs": []
    },
    {
      "cell_type": "code",
      "metadata": {
        "id": "dtHrU_2BAPRs"
      },
      "source": [
        "%%R\n",
        "filter <- apply(X=reads.cpm, MARGIN=1,\n",
        "                FUN=function(data) {data[order(rank(data), decreasing=TRUE)[2]]})"
      ],
      "execution_count": null,
      "outputs": []
    },
    {
      "cell_type": "code",
      "metadata": {
        "id": "giFhXmAEAmbg"
      },
      "source": [
        "%%R\n",
        "library(genefilter)"
      ],
      "execution_count": null,
      "outputs": []
    },
    {
      "cell_type": "code",
      "metadata": {
        "id": "RO22dkk7APU3"
      },
      "source": [
        "%%R\n",
        "lowerQuantile <- mean(filter == 0)\n",
        "if (lowerQuantile < .95) upperQuantile <- .95 else upperQuantile <- 1\n",
        "theta <- seq(lowerQuantile, upperQuantile, length=50)\n",
        "\n",
        "filtPadj <- filtered_p(filter=filter, test=unfiltered.results$PValue,\n",
        "                       theta=theta, method=\"BH\")\n",
        "\n",
        "min.fdr <- 0.05\n",
        "numRej <- colSums(filtPadj < min.fdr, na.rm = TRUE)\n",
        "\n",
        "filter.quantiles <- quantile(filter, probs=theta)\n",
        "\n",
        "lo.fit.theta <- lowess(numRej ~ theta, f=1/5)\n",
        "\n",
        "if (max(numRej) <= 10) {\n",
        "  j <- 1\n",
        "} else {\n",
        "  residual <- if (all(numRej==0)) {\n",
        "    0\n",
        "  } else {\n",
        "    numRej[numRej > 0] - lo.fit.theta$y[numRej > 0]\n",
        "  }\n",
        "  thresh <- max(lo.fit.theta$y) - sqrt(mean(residual^2))\n",
        "  j <- if (any(numRej > thresh)) {\n",
        "    which(numRej > thresh)[1]\n",
        "  } else {\n",
        "    1\n",
        "  }\n",
        "}\n"
      ],
      "execution_count": null,
      "outputs": []
    },
    {
      "cell_type": "code",
      "metadata": {
        "colab": {
          "base_uri": "https://localhost:8080/",
          "height": 497
        },
        "id": "CQU8qs4sAPYo",
        "outputId": "3fa1d450-fadc-4235-c1ae-95ec334051fa"
      },
      "source": [
        "%%R\n",
        "plot(theta, numRej, type=\"b\", xlab=\"\", ylab=\"\", lwd=3,\n",
        "     frame.plot=FALSE, col=\"black\")"
      ],
      "execution_count": null,
      "outputs": [
        {
          "output_type": "display_data",
          "data": {
            "image/png": "[encoded data removed]"
          },
          "metadata": {
            "tags": []
          }
        }
      ]
    },
    {
      "cell_type": "code",
      "metadata": {
        "id": "iDuf0IkMAPbu"
      },
      "source": [
        "%%R -o results\n",
        "results <- unfiltered.results\n",
        "results$FDR <- filtPadj[, j, drop=TRUE]\n",
        "\n",
        "results$de <- sign(results$logFC)*(results$FDR < 0.05)\n",
        "results$sig <- abs(results$de)\n",
        "\n",
        "results[is.na(results$sig),]$sig <- 0"
      ],
      "execution_count": null,
      "outputs": []
    },
    {
      "cell_type": "code",
      "metadata": {
        "id": "l5qRrK8TAQE2",
        "colab": {
          "base_uri": "https://localhost:8080/"
        },
        "outputId": "909bce55-5c2b-47ec-f70f-5db4b0a3a439"
      },
      "source": [
        "%%R \n",
        "print(dim(results[results$sig==1,]))\n",
        "head(results[results$sig==1,])"
      ],
      "execution_count": null,
      "outputs": [
        {
          "output_type": "stream",
          "text": [
            "[1]  4 18\n",
            "              genes   IFN18B4      C18A1    IFN18A1     C18A2     C18B2\n",
            "MTB000021 MTB000021 193.21311 150.463370 177.345519 120.30524 116.70945\n",
            "Rv1686c     Rv1686c  15.65082   9.040289   7.875697  16.47472  15.81817\n",
            "Rv1687c     Rv1687c  25.83628  11.512633   9.963231  24.42948  23.12168\n",
            "Rv3561       Rv3561  38.19546  21.951420  19.863204  30.08154  30.00314\n",
            "            IFN18A2   IFN18B2     C18B3   IFN18B3     C18B4      logFC   logCPM\n",
            "MTB000021 133.72866 127.16688 100.32492 131.69032 178.08771  0.2039587 7.156781\n",
            "Rv1686c    13.70094  12.38235  55.71255  38.37003  16.68652 -0.3101670 4.340593\n",
            "Rv1687c    18.56618  17.74187  85.32087  62.34833  24.57172 -0.2866109 4.927323\n",
            "Rv3561     25.51917  25.01671  79.62967  61.15893  42.66514 -0.2463541 5.224387\n",
            "                LR       PValue          FDR de sig\n",
            "MTB000021 22.58887 2.006435e-06 0.0027769063  1   1\n",
            "Rv1686c   22.87770 1.726431e-06 0.0027769063 -1   1\n",
            "Rv1687c   18.74394 1.494977e-05 0.0155178624 -1   1\n",
            "Rv3561    29.08184 6.938421e-08 0.0002880832 -1   1\n"
          ],
          "name": "stdout"
        }
      ]
    },
    {
      "cell_type": "code",
      "metadata": {
        "colab": {
          "base_uri": "https://localhost:8080/"
        },
        "id": "PcHInsItEx0M",
        "outputId": "eac3eb97-0799-4d08-ca90-83d76d8fe709"
      },
      "source": [
        "pwd"
      ],
      "execution_count": null,
      "outputs": [
        {
          "output_type": "execute_result",
          "data": {
            "text/plain": [
              "'/home/jupyter/bucket/Mo/Kallisto_results'"
            ]
          },
          "metadata": {
            "tags": []
          },
          "execution_count": 81
        }
      ]
    },
    {
      "cell_type": "code",
      "metadata": {
        "id": "vPPKiXx9EhMM"
      },
      "source": [
        "%%R\n",
        "root.name <- \"results_excluding_1_sample\"\n",
        "save.files <- TRUE\n",
        "setwd(\"/home/jupyter/bucket/Mo/\")\n",
        "#input number of samples\n",
        "n=16"
      ],
      "execution_count": null,
      "outputs": []
    },
    {
      "cell_type": "code",
      "metadata": {
        "id": "89vTJirTAQKt",
        "colab": {
          "base_uri": "https://localhost:8080/"
        },
        "outputId": "41bca6ee-7784-42d6-883d-c21318c5304e"
      },
      "source": [
        "%%R\n",
        "if (save.files) {\n",
        "  ###\n",
        "  ### save results\n",
        "  ###\n",
        "  file.name = paste(root.name, \"results.txt\", sep=\"\")\n",
        "  print(file.name)\n",
        "  write.table(results, file=file.name, sep=\"\\t\", row.names=FALSE, quote=FALSE)\n",
        "  \n",
        "  file.name = paste(root.name, \"sig_results.txt\", sep=\"\")\n",
        "  print(file.name)\n",
        "  write.table(results[results$sig==1,], file=file.name, sep=\"\\t\", row.names=FALSE, quote=FALSE)\n",
        "  \n",
        "  ###\n",
        "  ### save mds plot\n",
        "  ###\n",
        "  file.name = paste(root.name, \"mds.pdf\", sep=\"\")\n",
        "  print(file.name)\n",
        "  pdf(file=file.name)\n",
        "  plotMDS(dge)\n",
        "  dev.off()\n",
        "  \n",
        "  ###\n",
        "  ### save smear plot\n",
        "  ###\n",
        "  file.name = paste(root.name, \"smear.pdf\", sep=\"\")\n",
        "  print(file.name)\n",
        "  pdf(file=file.name, width=8, height=4)\n",
        "  y.min <- min(results$logFC)\n",
        "  y.max <- max(results$logFC)\n",
        "  if (abs(y.min) > y.max) {\n",
        "    y.max = abs(y.min)\n",
        "  } else {\n",
        "    y.min = -1 * y.max\n",
        "  }\n",
        "  x.min <- min(results$logCPM)\n",
        "  x.max <- max(results$logCPM)\n",
        "  insig <- subset(results, FDR > 0.05)\n",
        "  sig <- subset(results, FDR <= 0.05)\n",
        "  plot(x=insig$logCPM, y=insig$logFC, pch=16, col=\"#00000011\", ylab=\"logFC\", xlab=\"logCPM\", ylim=c(y.min, y.max), xlim=c(x.min, x.max))\n",
        "  points(x=sig$logCPM, y=sig$logFC, pch=20, col=\"#FF000088\")\n",
        "  \n",
        "  \n",
        "  plot(x=insig$logCPM, y=insig$logFC, pch=16, col=\"#00000011\", ylab=\"logFC\", xlab=\"logCPM\", ylim=c(y.min, y.max), xlim=c(x.min, x.max))\n",
        "  points(x=sig$logCPM, y=sig$logFC, pch=20, col=\"#FF000088\")\n",
        "}"
      ],
      "execution_count": null,
      "outputs": [
        {
          "output_type": "stream",
          "text": [
            "[1] \"results_excluding_1_sampleresults.txt\"\n",
            "[1] \"results_excluding_1_samplesig_results.txt\"\n",
            "[1] \"results_excluding_1_samplemds.pdf\"\n",
            "[1] \"results_excluding_1_samplesmear.pdf\"\n"
          ],
          "name": "stdout"
        }
      ]
    },
    {
      "cell_type": "markdown",
      "metadata": {
        "id": "XxLzumoZibPA"
      },
      "source": [
        "#Summary of Kallisto quant resuls"
      ]
    },
    {
      "cell_type": "markdown",
      "metadata": {
        "id": "_8vFmG01inok"
      },
      "source": [
        "## Extract information selected from pseudo-alignment results"
      ]
    },
    {
      "cell_type": "code",
      "metadata": {
        "id": "g5eV46SDGYF3"
      },
      "source": [
        "%%R\n",
        "raw.data <- Txi_gene$counts\n",
        "colnames(raw.data) <- metadata$folder\n",
        "dim(raw.data)\n",
        "write.csv(raw.data,file=\"Data_kallisto_counts.csv\")"
      ],
      "execution_count": null,
      "outputs": []
    },
    {
      "cell_type": "code",
      "metadata": {
        "id": "Dgs1pMW1YIUA"
      },
      "source": [
        "%%R\n",
        "head(raw.data)"
      ],
      "execution_count": null,
      "outputs": []
    },
    {
      "cell_type": "code",
      "metadata": {
        "id": "7QowN-0RGaBH"
      },
      "source": [
        "%%R -o raw_data\n",
        "raw_data <- Txi_gene$abundance\n",
        "colnames(raw_data) <- metadata$folder\n",
        "dim(raw_data)\n",
        "write.csv(raw_data,file=\"Data_kallisto_TPM.csv\")"
      ],
      "execution_count": null,
      "outputs": []
    },
    {
      "cell_type": "code",
      "metadata": {
        "id": "vH6fSckNVZ0w"
      },
      "source": [
        "%%R\n",
        "head(raw_data)"
      ],
      "execution_count": null,
      "outputs": []
    }
  ]
}